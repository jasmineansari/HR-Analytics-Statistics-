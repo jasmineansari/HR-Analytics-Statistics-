{
 "cells": [
  {
   "cell_type": "code",
   "execution_count": 1,
   "id": "c0be06f6",
   "metadata": {},
   "outputs": [],
   "source": [
    "import pandas as pd\n",
    "import numpy as np\n",
    "import matplotlib.pyplot as plt\n",
    "import seaborn as sns"
   ]
  },
  {
   "cell_type": "code",
   "execution_count": 2,
   "id": "0f085a5a",
   "metadata": {},
   "outputs": [],
   "source": [
    "df = pd.read_csv('People Charm case.csv')"
   ]
  },
  {
   "cell_type": "code",
   "execution_count": 3,
   "id": "f4e34c54",
   "metadata": {},
   "outputs": [
    {
     "data": {
      "text/html": [
       "<div>\n",
       "<style scoped>\n",
       "    .dataframe tbody tr th:only-of-type {\n",
       "        vertical-align: middle;\n",
       "    }\n",
       "\n",
       "    .dataframe tbody tr th {\n",
       "        vertical-align: top;\n",
       "    }\n",
       "\n",
       "    .dataframe thead th {\n",
       "        text-align: right;\n",
       "    }\n",
       "</style>\n",
       "<table border=\"1\" class=\"dataframe\">\n",
       "  <thead>\n",
       "    <tr style=\"text-align: right;\">\n",
       "      <th></th>\n",
       "      <th>satisfactoryLevel</th>\n",
       "      <th>lastEvaluation</th>\n",
       "      <th>numberOfProjects</th>\n",
       "      <th>avgMonthlyHours</th>\n",
       "      <th>timeSpent.company</th>\n",
       "      <th>workAccident</th>\n",
       "      <th>left</th>\n",
       "      <th>promotionInLast5years</th>\n",
       "      <th>dept</th>\n",
       "      <th>salary</th>\n",
       "    </tr>\n",
       "  </thead>\n",
       "  <tbody>\n",
       "    <tr>\n",
       "      <th>0</th>\n",
       "      <td>0.38</td>\n",
       "      <td>0.53</td>\n",
       "      <td>2</td>\n",
       "      <td>157</td>\n",
       "      <td>3</td>\n",
       "      <td>0</td>\n",
       "      <td>1</td>\n",
       "      <td>0</td>\n",
       "      <td>sales</td>\n",
       "      <td>low</td>\n",
       "    </tr>\n",
       "    <tr>\n",
       "      <th>1</th>\n",
       "      <td>0.80</td>\n",
       "      <td>0.86</td>\n",
       "      <td>5</td>\n",
       "      <td>262</td>\n",
       "      <td>6</td>\n",
       "      <td>0</td>\n",
       "      <td>1</td>\n",
       "      <td>0</td>\n",
       "      <td>sales</td>\n",
       "      <td>medium</td>\n",
       "    </tr>\n",
       "    <tr>\n",
       "      <th>2</th>\n",
       "      <td>0.11</td>\n",
       "      <td>0.88</td>\n",
       "      <td>7</td>\n",
       "      <td>272</td>\n",
       "      <td>4</td>\n",
       "      <td>0</td>\n",
       "      <td>1</td>\n",
       "      <td>0</td>\n",
       "      <td>sales</td>\n",
       "      <td>medium</td>\n",
       "    </tr>\n",
       "    <tr>\n",
       "      <th>3</th>\n",
       "      <td>0.37</td>\n",
       "      <td>0.52</td>\n",
       "      <td>2</td>\n",
       "      <td>159</td>\n",
       "      <td>3</td>\n",
       "      <td>0</td>\n",
       "      <td>1</td>\n",
       "      <td>0</td>\n",
       "      <td>sales</td>\n",
       "      <td>low</td>\n",
       "    </tr>\n",
       "    <tr>\n",
       "      <th>4</th>\n",
       "      <td>0.41</td>\n",
       "      <td>0.50</td>\n",
       "      <td>2</td>\n",
       "      <td>153</td>\n",
       "      <td>3</td>\n",
       "      <td>0</td>\n",
       "      <td>1</td>\n",
       "      <td>0</td>\n",
       "      <td>sales</td>\n",
       "      <td>low</td>\n",
       "    </tr>\n",
       "  </tbody>\n",
       "</table>\n",
       "</div>"
      ],
      "text/plain": [
       "   satisfactoryLevel  lastEvaluation  numberOfProjects  avgMonthlyHours  \\\n",
       "0               0.38            0.53                 2              157   \n",
       "1               0.80            0.86                 5              262   \n",
       "2               0.11            0.88                 7              272   \n",
       "3               0.37            0.52                 2              159   \n",
       "4               0.41            0.50                 2              153   \n",
       "\n",
       "   timeSpent.company  workAccident  left  promotionInLast5years   dept  salary  \n",
       "0                  3             0     1                      0  sales     low  \n",
       "1                  6             0     1                      0  sales  medium  \n",
       "2                  4             0     1                      0  sales  medium  \n",
       "3                  3             0     1                      0  sales     low  \n",
       "4                  3             0     1                      0  sales     low  "
      ]
     },
     "execution_count": 3,
     "metadata": {},
     "output_type": "execute_result"
    }
   ],
   "source": [
    "df.head()"
   ]
  },
  {
   "cell_type": "code",
   "execution_count": 4,
   "id": "5ea055e1",
   "metadata": {},
   "outputs": [
    {
     "data": {
      "text/plain": [
       "Index(['satisfactoryLevel', 'lastEvaluation', 'numberOfProjects',\n",
       "       'avgMonthlyHours', 'timeSpent.company', 'workAccident', 'left',\n",
       "       'promotionInLast5years', 'dept', 'salary'],\n",
       "      dtype='object')"
      ]
     },
     "execution_count": 4,
     "metadata": {},
     "output_type": "execute_result"
    }
   ],
   "source": [
    "df.columns"
   ]
  },
  {
   "cell_type": "code",
   "execution_count": 5,
   "id": "28695447",
   "metadata": {},
   "outputs": [
    {
     "data": {
      "text/plain": [
       "['satisfactoryLevel',\n",
       " 'lastEvaluation',\n",
       " 'numberOfProjects',\n",
       " 'avgMonthlyHours',\n",
       " 'timeSpent.company',\n",
       " 'workAccident',\n",
       " 'left',\n",
       " 'promotionInLast5years',\n",
       " 'dept',\n",
       " 'salary']"
      ]
     },
     "execution_count": 5,
     "metadata": {},
     "output_type": "execute_result"
    }
   ],
   "source": [
    "list(df.columns)"
   ]
  },
  {
   "cell_type": "code",
   "execution_count": 6,
   "id": "eae0de51",
   "metadata": {},
   "outputs": [
    {
     "name": "stdout",
     "output_type": "stream",
     "text": [
      "<class 'pandas.core.frame.DataFrame'>\n",
      "RangeIndex: 14999 entries, 0 to 14998\n",
      "Data columns (total 10 columns):\n",
      " #   Column                 Non-Null Count  Dtype  \n",
      "---  ------                 --------------  -----  \n",
      " 0   satisfactoryLevel      14999 non-null  float64\n",
      " 1   lastEvaluation         14999 non-null  float64\n",
      " 2   numberOfProjects       14999 non-null  int64  \n",
      " 3   avgMonthlyHours        14999 non-null  int64  \n",
      " 4   timeSpent.company      14999 non-null  int64  \n",
      " 5   workAccident           14999 non-null  int64  \n",
      " 6   left                   14999 non-null  int64  \n",
      " 7   promotionInLast5years  14999 non-null  int64  \n",
      " 8   dept                   14999 non-null  object \n",
      " 9   salary                 14999 non-null  object \n",
      "dtypes: float64(2), int64(6), object(2)\n",
      "memory usage: 1.1+ MB\n"
     ]
    }
   ],
   "source": [
    "df.info()"
   ]
  },
  {
   "cell_type": "code",
   "execution_count": 7,
   "id": "0cf71760",
   "metadata": {},
   "outputs": [
    {
     "data": {
      "text/plain": [
       "0        3\n",
       "1        6\n",
       "2        4\n",
       "3        3\n",
       "4        3\n",
       "        ..\n",
       "14994    4\n",
       "14995    2\n",
       "14996    4\n",
       "14997    5\n",
       "14998    3\n",
       "Name: timeSpent.company, Length: 14999, dtype: int64"
      ]
     },
     "execution_count": 7,
     "metadata": {},
     "output_type": "execute_result"
    }
   ],
   "source": [
    "df['timeSpent.company']"
   ]
  },
  {
   "cell_type": "code",
   "execution_count": 10,
   "id": "2a640272",
   "metadata": {},
   "outputs": [
    {
     "ename": "AttributeError",
     "evalue": "'DataFrame' object has no attribute 'timeSpent'",
     "output_type": "error",
     "traceback": [
      "\u001b[1;31m---------------------------------------------------------------------------\u001b[0m",
      "\u001b[1;31mAttributeError\u001b[0m                            Traceback (most recent call last)",
      "Cell \u001b[1;32mIn[10], line 1\u001b[0m\n\u001b[1;32m----> 1\u001b[0m \u001b[43mdf\u001b[49m\u001b[38;5;241;43m.\u001b[39;49m\u001b[43mtimeSpent\u001b[49m\u001b[38;5;241m.\u001b[39mcompany\n",
      "File \u001b[1;32m~\\anaconda3\\lib\\site-packages\\pandas\\core\\generic.py:5575\u001b[0m, in \u001b[0;36mNDFrame.__getattr__\u001b[1;34m(self, name)\u001b[0m\n\u001b[0;32m   5568\u001b[0m \u001b[38;5;28;01mif\u001b[39;00m (\n\u001b[0;32m   5569\u001b[0m     name \u001b[38;5;129;01mnot\u001b[39;00m \u001b[38;5;129;01min\u001b[39;00m \u001b[38;5;28mself\u001b[39m\u001b[38;5;241m.\u001b[39m_internal_names_set\n\u001b[0;32m   5570\u001b[0m     \u001b[38;5;129;01mand\u001b[39;00m name \u001b[38;5;129;01mnot\u001b[39;00m \u001b[38;5;129;01min\u001b[39;00m \u001b[38;5;28mself\u001b[39m\u001b[38;5;241m.\u001b[39m_metadata\n\u001b[0;32m   5571\u001b[0m     \u001b[38;5;129;01mand\u001b[39;00m name \u001b[38;5;129;01mnot\u001b[39;00m \u001b[38;5;129;01min\u001b[39;00m \u001b[38;5;28mself\u001b[39m\u001b[38;5;241m.\u001b[39m_accessors\n\u001b[0;32m   5572\u001b[0m     \u001b[38;5;129;01mand\u001b[39;00m \u001b[38;5;28mself\u001b[39m\u001b[38;5;241m.\u001b[39m_info_axis\u001b[38;5;241m.\u001b[39m_can_hold_identifiers_and_holds_name(name)\n\u001b[0;32m   5573\u001b[0m ):\n\u001b[0;32m   5574\u001b[0m     \u001b[38;5;28;01mreturn\u001b[39;00m \u001b[38;5;28mself\u001b[39m[name]\n\u001b[1;32m-> 5575\u001b[0m \u001b[38;5;28;01mreturn\u001b[39;00m \u001b[38;5;28;43mobject\u001b[39;49m\u001b[38;5;241;43m.\u001b[39;49m\u001b[38;5;21;43m__getattribute__\u001b[39;49m\u001b[43m(\u001b[49m\u001b[38;5;28;43mself\u001b[39;49m\u001b[43m,\u001b[49m\u001b[43m \u001b[49m\u001b[43mname\u001b[49m\u001b[43m)\u001b[49m\n",
      "\u001b[1;31mAttributeError\u001b[0m: 'DataFrame' object has no attribute 'timeSpent'"
     ]
    }
   ],
   "source": [
    "df.timeSpent.company"
   ]
  },
  {
   "cell_type": "code",
   "execution_count": 9,
   "id": "357f6a24",
   "metadata": {},
   "outputs": [
    {
     "data": {
      "text/plain": [
       "0           low\n",
       "1        medium\n",
       "2        medium\n",
       "3           low\n",
       "4           low\n",
       "          ...  \n",
       "14994    medium\n",
       "14995       low\n",
       "14996       low\n",
       "14997       low\n",
       "14998       low\n",
       "Name: salary, Length: 14999, dtype: object"
      ]
     },
     "execution_count": 9,
     "metadata": {},
     "output_type": "execute_result"
    }
   ],
   "source": [
    "df.salary"
   ]
  },
  {
   "cell_type": "code",
   "execution_count": 11,
   "id": "bdc3e137",
   "metadata": {},
   "outputs": [],
   "source": [
    "df.rename(columns = {'timeSpent.company':'timeSpent_company'}, inplace = True)"
   ]
  },
  {
   "cell_type": "code",
   "execution_count": 12,
   "id": "cae87567",
   "metadata": {},
   "outputs": [
    {
     "data": {
      "text/html": [
       "<div>\n",
       "<style scoped>\n",
       "    .dataframe tbody tr th:only-of-type {\n",
       "        vertical-align: middle;\n",
       "    }\n",
       "\n",
       "    .dataframe tbody tr th {\n",
       "        vertical-align: top;\n",
       "    }\n",
       "\n",
       "    .dataframe thead th {\n",
       "        text-align: right;\n",
       "    }\n",
       "</style>\n",
       "<table border=\"1\" class=\"dataframe\">\n",
       "  <thead>\n",
       "    <tr style=\"text-align: right;\">\n",
       "      <th></th>\n",
       "      <th>satisfactoryLevel</th>\n",
       "      <th>lastEvaluation</th>\n",
       "      <th>numberOfProjects</th>\n",
       "      <th>avgMonthlyHours</th>\n",
       "      <th>timeSpent_company</th>\n",
       "      <th>workAccident</th>\n",
       "      <th>left</th>\n",
       "      <th>promotionInLast5years</th>\n",
       "      <th>dept</th>\n",
       "      <th>salary</th>\n",
       "    </tr>\n",
       "  </thead>\n",
       "  <tbody>\n",
       "    <tr>\n",
       "      <th>0</th>\n",
       "      <td>0.38</td>\n",
       "      <td>0.53</td>\n",
       "      <td>2</td>\n",
       "      <td>157</td>\n",
       "      <td>3</td>\n",
       "      <td>0</td>\n",
       "      <td>1</td>\n",
       "      <td>0</td>\n",
       "      <td>sales</td>\n",
       "      <td>low</td>\n",
       "    </tr>\n",
       "    <tr>\n",
       "      <th>1</th>\n",
       "      <td>0.80</td>\n",
       "      <td>0.86</td>\n",
       "      <td>5</td>\n",
       "      <td>262</td>\n",
       "      <td>6</td>\n",
       "      <td>0</td>\n",
       "      <td>1</td>\n",
       "      <td>0</td>\n",
       "      <td>sales</td>\n",
       "      <td>medium</td>\n",
       "    </tr>\n",
       "    <tr>\n",
       "      <th>2</th>\n",
       "      <td>0.11</td>\n",
       "      <td>0.88</td>\n",
       "      <td>7</td>\n",
       "      <td>272</td>\n",
       "      <td>4</td>\n",
       "      <td>0</td>\n",
       "      <td>1</td>\n",
       "      <td>0</td>\n",
       "      <td>sales</td>\n",
       "      <td>medium</td>\n",
       "    </tr>\n",
       "    <tr>\n",
       "      <th>3</th>\n",
       "      <td>0.37</td>\n",
       "      <td>0.52</td>\n",
       "      <td>2</td>\n",
       "      <td>159</td>\n",
       "      <td>3</td>\n",
       "      <td>0</td>\n",
       "      <td>1</td>\n",
       "      <td>0</td>\n",
       "      <td>sales</td>\n",
       "      <td>low</td>\n",
       "    </tr>\n",
       "    <tr>\n",
       "      <th>4</th>\n",
       "      <td>0.41</td>\n",
       "      <td>0.50</td>\n",
       "      <td>2</td>\n",
       "      <td>153</td>\n",
       "      <td>3</td>\n",
       "      <td>0</td>\n",
       "      <td>1</td>\n",
       "      <td>0</td>\n",
       "      <td>sales</td>\n",
       "      <td>low</td>\n",
       "    </tr>\n",
       "  </tbody>\n",
       "</table>\n",
       "</div>"
      ],
      "text/plain": [
       "   satisfactoryLevel  lastEvaluation  numberOfProjects  avgMonthlyHours  \\\n",
       "0               0.38            0.53                 2              157   \n",
       "1               0.80            0.86                 5              262   \n",
       "2               0.11            0.88                 7              272   \n",
       "3               0.37            0.52                 2              159   \n",
       "4               0.41            0.50                 2              153   \n",
       "\n",
       "   timeSpent_company  workAccident  left  promotionInLast5years   dept  salary  \n",
       "0                  3             0     1                      0  sales     low  \n",
       "1                  6             0     1                      0  sales  medium  \n",
       "2                  4             0     1                      0  sales  medium  \n",
       "3                  3             0     1                      0  sales     low  \n",
       "4                  3             0     1                      0  sales     low  "
      ]
     },
     "execution_count": 12,
     "metadata": {},
     "output_type": "execute_result"
    }
   ],
   "source": [
    "df.head()"
   ]
  },
  {
   "cell_type": "code",
   "execution_count": 13,
   "id": "58abcbbc",
   "metadata": {},
   "outputs": [
    {
     "data": {
      "text/plain": [
       "(14999, 10)"
      ]
     },
     "execution_count": 13,
     "metadata": {},
     "output_type": "execute_result"
    }
   ],
   "source": [
    "df.shape"
   ]
  },
  {
   "cell_type": "code",
   "execution_count": 14,
   "id": "9e87cf01",
   "metadata": {},
   "outputs": [
    {
     "data": {
      "text/plain": [
       "3008"
      ]
     },
     "execution_count": 14,
     "metadata": {},
     "output_type": "execute_result"
    }
   ],
   "source": [
    "df.duplicated().sum()"
   ]
  },
  {
   "cell_type": "code",
   "execution_count": 15,
   "id": "0ec29e34",
   "metadata": {},
   "outputs": [
    {
     "data": {
      "text/html": [
       "<div>\n",
       "<style scoped>\n",
       "    .dataframe tbody tr th:only-of-type {\n",
       "        vertical-align: middle;\n",
       "    }\n",
       "\n",
       "    .dataframe tbody tr th {\n",
       "        vertical-align: top;\n",
       "    }\n",
       "\n",
       "    .dataframe thead th {\n",
       "        text-align: right;\n",
       "    }\n",
       "</style>\n",
       "<table border=\"1\" class=\"dataframe\">\n",
       "  <thead>\n",
       "    <tr style=\"text-align: right;\">\n",
       "      <th></th>\n",
       "      <th>satisfactoryLevel</th>\n",
       "      <th>lastEvaluation</th>\n",
       "      <th>numberOfProjects</th>\n",
       "      <th>avgMonthlyHours</th>\n",
       "      <th>timeSpent_company</th>\n",
       "      <th>workAccident</th>\n",
       "      <th>left</th>\n",
       "      <th>promotionInLast5years</th>\n",
       "      <th>dept</th>\n",
       "      <th>salary</th>\n",
       "    </tr>\n",
       "  </thead>\n",
       "  <tbody>\n",
       "    <tr>\n",
       "      <th>263</th>\n",
       "      <td>0.46</td>\n",
       "      <td>0.57</td>\n",
       "      <td>2</td>\n",
       "      <td>139</td>\n",
       "      <td>3</td>\n",
       "      <td>0</td>\n",
       "      <td>1</td>\n",
       "      <td>0</td>\n",
       "      <td>sales</td>\n",
       "      <td>low</td>\n",
       "    </tr>\n",
       "    <tr>\n",
       "      <th>877</th>\n",
       "      <td>0.37</td>\n",
       "      <td>0.51</td>\n",
       "      <td>2</td>\n",
       "      <td>127</td>\n",
       "      <td>3</td>\n",
       "      <td>0</td>\n",
       "      <td>1</td>\n",
       "      <td>0</td>\n",
       "      <td>sales</td>\n",
       "      <td>medium</td>\n",
       "    </tr>\n",
       "    <tr>\n",
       "      <th>974</th>\n",
       "      <td>0.42</td>\n",
       "      <td>0.53</td>\n",
       "      <td>2</td>\n",
       "      <td>142</td>\n",
       "      <td>3</td>\n",
       "      <td>0</td>\n",
       "      <td>1</td>\n",
       "      <td>0</td>\n",
       "      <td>sales</td>\n",
       "      <td>low</td>\n",
       "    </tr>\n",
       "    <tr>\n",
       "      <th>1017</th>\n",
       "      <td>0.40</td>\n",
       "      <td>0.50</td>\n",
       "      <td>2</td>\n",
       "      <td>127</td>\n",
       "      <td>3</td>\n",
       "      <td>0</td>\n",
       "      <td>1</td>\n",
       "      <td>0</td>\n",
       "      <td>IT</td>\n",
       "      <td>low</td>\n",
       "    </tr>\n",
       "    <tr>\n",
       "      <th>1241</th>\n",
       "      <td>0.10</td>\n",
       "      <td>0.85</td>\n",
       "      <td>6</td>\n",
       "      <td>266</td>\n",
       "      <td>4</td>\n",
       "      <td>0</td>\n",
       "      <td>1</td>\n",
       "      <td>0</td>\n",
       "      <td>sales</td>\n",
       "      <td>low</td>\n",
       "    </tr>\n",
       "    <tr>\n",
       "      <th>...</th>\n",
       "      <td>...</td>\n",
       "      <td>...</td>\n",
       "      <td>...</td>\n",
       "      <td>...</td>\n",
       "      <td>...</td>\n",
       "      <td>...</td>\n",
       "      <td>...</td>\n",
       "      <td>...</td>\n",
       "      <td>...</td>\n",
       "      <td>...</td>\n",
       "    </tr>\n",
       "    <tr>\n",
       "      <th>14985</th>\n",
       "      <td>0.95</td>\n",
       "      <td>0.84</td>\n",
       "      <td>3</td>\n",
       "      <td>270</td>\n",
       "      <td>3</td>\n",
       "      <td>1</td>\n",
       "      <td>0</td>\n",
       "      <td>1</td>\n",
       "      <td>sales</td>\n",
       "      <td>medium</td>\n",
       "    </tr>\n",
       "    <tr>\n",
       "      <th>14987</th>\n",
       "      <td>0.37</td>\n",
       "      <td>0.45</td>\n",
       "      <td>2</td>\n",
       "      <td>126</td>\n",
       "      <td>3</td>\n",
       "      <td>0</td>\n",
       "      <td>1</td>\n",
       "      <td>0</td>\n",
       "      <td>support</td>\n",
       "      <td>medium</td>\n",
       "    </tr>\n",
       "    <tr>\n",
       "      <th>14988</th>\n",
       "      <td>0.43</td>\n",
       "      <td>0.57</td>\n",
       "      <td>2</td>\n",
       "      <td>157</td>\n",
       "      <td>3</td>\n",
       "      <td>0</td>\n",
       "      <td>1</td>\n",
       "      <td>0</td>\n",
       "      <td>sales</td>\n",
       "      <td>low</td>\n",
       "    </tr>\n",
       "    <tr>\n",
       "      <th>14993</th>\n",
       "      <td>0.61</td>\n",
       "      <td>0.89</td>\n",
       "      <td>3</td>\n",
       "      <td>242</td>\n",
       "      <td>10</td>\n",
       "      <td>0</td>\n",
       "      <td>0</td>\n",
       "      <td>0</td>\n",
       "      <td>sales</td>\n",
       "      <td>high</td>\n",
       "    </tr>\n",
       "    <tr>\n",
       "      <th>14994</th>\n",
       "      <td>0.11</td>\n",
       "      <td>0.85</td>\n",
       "      <td>7</td>\n",
       "      <td>275</td>\n",
       "      <td>4</td>\n",
       "      <td>0</td>\n",
       "      <td>1</td>\n",
       "      <td>0</td>\n",
       "      <td>support</td>\n",
       "      <td>medium</td>\n",
       "    </tr>\n",
       "  </tbody>\n",
       "</table>\n",
       "<p>3008 rows × 10 columns</p>\n",
       "</div>"
      ],
      "text/plain": [
       "       satisfactoryLevel  lastEvaluation  numberOfProjects  avgMonthlyHours  \\\n",
       "263                 0.46            0.57                 2              139   \n",
       "877                 0.37            0.51                 2              127   \n",
       "974                 0.42            0.53                 2              142   \n",
       "1017                0.40            0.50                 2              127   \n",
       "1241                0.10            0.85                 6              266   \n",
       "...                  ...             ...               ...              ...   \n",
       "14985               0.95            0.84                 3              270   \n",
       "14987               0.37            0.45                 2              126   \n",
       "14988               0.43            0.57                 2              157   \n",
       "14993               0.61            0.89                 3              242   \n",
       "14994               0.11            0.85                 7              275   \n",
       "\n",
       "       timeSpent_company  workAccident  left  promotionInLast5years     dept  \\\n",
       "263                    3             0     1                      0    sales   \n",
       "877                    3             0     1                      0    sales   \n",
       "974                    3             0     1                      0    sales   \n",
       "1017                   3             0     1                      0       IT   \n",
       "1241                   4             0     1                      0    sales   \n",
       "...                  ...           ...   ...                    ...      ...   \n",
       "14985                  3             1     0                      1    sales   \n",
       "14987                  3             0     1                      0  support   \n",
       "14988                  3             0     1                      0    sales   \n",
       "14993                 10             0     0                      0    sales   \n",
       "14994                  4             0     1                      0  support   \n",
       "\n",
       "       salary  \n",
       "263       low  \n",
       "877    medium  \n",
       "974       low  \n",
       "1017      low  \n",
       "1241      low  \n",
       "...       ...  \n",
       "14985  medium  \n",
       "14987  medium  \n",
       "14988     low  \n",
       "14993    high  \n",
       "14994  medium  \n",
       "\n",
       "[3008 rows x 10 columns]"
      ]
     },
     "execution_count": 15,
     "metadata": {},
     "output_type": "execute_result"
    }
   ],
   "source": [
    "dup=df[df.duplicated(keep='first')]\n",
    "dup"
   ]
  },
  {
   "cell_type": "code",
   "execution_count": 16,
   "id": "59b5bad6",
   "metadata": {},
   "outputs": [],
   "source": [
    "df = df.drop_duplicates(keep='first')"
   ]
  },
  {
   "cell_type": "code",
   "execution_count": 17,
   "id": "22ceb4ab",
   "metadata": {},
   "outputs": [
    {
     "data": {
      "text/plain": [
       "(11991, 10)"
      ]
     },
     "execution_count": 17,
     "metadata": {},
     "output_type": "execute_result"
    }
   ],
   "source": [
    "df.shape"
   ]
  },
  {
   "cell_type": "code",
   "execution_count": 18,
   "id": "bd405a71",
   "metadata": {},
   "outputs": [
    {
     "data": {
      "text/plain": [
       "satisfactoryLevel        0\n",
       "lastEvaluation           0\n",
       "numberOfProjects         0\n",
       "avgMonthlyHours          0\n",
       "timeSpent_company        0\n",
       "workAccident             0\n",
       "left                     0\n",
       "promotionInLast5years    0\n",
       "dept                     0\n",
       "salary                   0\n",
       "dtype: int64"
      ]
     },
     "execution_count": 18,
     "metadata": {},
     "output_type": "execute_result"
    }
   ],
   "source": [
    "df.isnull().sum()"
   ]
  },
  {
   "cell_type": "code",
   "execution_count": 19,
   "id": "0334fa31",
   "metadata": {},
   "outputs": [],
   "source": [
    "from scipy.constants import pi"
   ]
  },
  {
   "cell_type": "code",
   "execution_count": 20,
   "id": "cfdb8a64",
   "metadata": {},
   "outputs": [
    {
     "name": "stdout",
     "output_type": "stream",
     "text": [
      "3.141592653589793\n"
     ]
    }
   ],
   "source": [
    "print(pi)"
   ]
  },
  {
   "cell_type": "code",
   "execution_count": 22,
   "id": "207a33ea",
   "metadata": {},
   "outputs": [
    {
     "data": {
      "text/html": [
       "<div>\n",
       "<style scoped>\n",
       "    .dataframe tbody tr th:only-of-type {\n",
       "        vertical-align: middle;\n",
       "    }\n",
       "\n",
       "    .dataframe tbody tr th {\n",
       "        vertical-align: top;\n",
       "    }\n",
       "\n",
       "    .dataframe thead th {\n",
       "        text-align: right;\n",
       "    }\n",
       "</style>\n",
       "<table border=\"1\" class=\"dataframe\">\n",
       "  <thead>\n",
       "    <tr style=\"text-align: right;\">\n",
       "      <th></th>\n",
       "      <th>satisfactoryLevel</th>\n",
       "      <th>lastEvaluation</th>\n",
       "      <th>numberOfProjects</th>\n",
       "      <th>avgMonthlyHours</th>\n",
       "      <th>timeSpent_company</th>\n",
       "      <th>workAccident</th>\n",
       "      <th>left</th>\n",
       "      <th>promotionInLast5years</th>\n",
       "    </tr>\n",
       "  </thead>\n",
       "  <tbody>\n",
       "    <tr>\n",
       "      <th>count</th>\n",
       "      <td>11991.000000</td>\n",
       "      <td>11991.000000</td>\n",
       "      <td>11991.000000</td>\n",
       "      <td>11991.000000</td>\n",
       "      <td>11991.000000</td>\n",
       "      <td>11991.000000</td>\n",
       "      <td>11991.000000</td>\n",
       "      <td>11991.000000</td>\n",
       "    </tr>\n",
       "    <tr>\n",
       "      <th>mean</th>\n",
       "      <td>0.629658</td>\n",
       "      <td>0.716683</td>\n",
       "      <td>3.802852</td>\n",
       "      <td>200.473522</td>\n",
       "      <td>3.364857</td>\n",
       "      <td>0.154282</td>\n",
       "      <td>0.166041</td>\n",
       "      <td>0.016929</td>\n",
       "    </tr>\n",
       "    <tr>\n",
       "      <th>std</th>\n",
       "      <td>0.241070</td>\n",
       "      <td>0.168343</td>\n",
       "      <td>1.163238</td>\n",
       "      <td>48.727813</td>\n",
       "      <td>1.330240</td>\n",
       "      <td>0.361234</td>\n",
       "      <td>0.372133</td>\n",
       "      <td>0.129012</td>\n",
       "    </tr>\n",
       "    <tr>\n",
       "      <th>min</th>\n",
       "      <td>0.090000</td>\n",
       "      <td>0.360000</td>\n",
       "      <td>2.000000</td>\n",
       "      <td>96.000000</td>\n",
       "      <td>2.000000</td>\n",
       "      <td>0.000000</td>\n",
       "      <td>0.000000</td>\n",
       "      <td>0.000000</td>\n",
       "    </tr>\n",
       "    <tr>\n",
       "      <th>25%</th>\n",
       "      <td>0.480000</td>\n",
       "      <td>0.570000</td>\n",
       "      <td>3.000000</td>\n",
       "      <td>157.000000</td>\n",
       "      <td>3.000000</td>\n",
       "      <td>0.000000</td>\n",
       "      <td>0.000000</td>\n",
       "      <td>0.000000</td>\n",
       "    </tr>\n",
       "    <tr>\n",
       "      <th>50%</th>\n",
       "      <td>0.660000</td>\n",
       "      <td>0.720000</td>\n",
       "      <td>4.000000</td>\n",
       "      <td>200.000000</td>\n",
       "      <td>3.000000</td>\n",
       "      <td>0.000000</td>\n",
       "      <td>0.000000</td>\n",
       "      <td>0.000000</td>\n",
       "    </tr>\n",
       "    <tr>\n",
       "      <th>75%</th>\n",
       "      <td>0.820000</td>\n",
       "      <td>0.860000</td>\n",
       "      <td>5.000000</td>\n",
       "      <td>243.000000</td>\n",
       "      <td>4.000000</td>\n",
       "      <td>0.000000</td>\n",
       "      <td>0.000000</td>\n",
       "      <td>0.000000</td>\n",
       "    </tr>\n",
       "    <tr>\n",
       "      <th>max</th>\n",
       "      <td>1.000000</td>\n",
       "      <td>1.000000</td>\n",
       "      <td>7.000000</td>\n",
       "      <td>310.000000</td>\n",
       "      <td>10.000000</td>\n",
       "      <td>1.000000</td>\n",
       "      <td>1.000000</td>\n",
       "      <td>1.000000</td>\n",
       "    </tr>\n",
       "  </tbody>\n",
       "</table>\n",
       "</div>"
      ],
      "text/plain": [
       "       satisfactoryLevel  lastEvaluation  numberOfProjects  avgMonthlyHours  \\\n",
       "count       11991.000000    11991.000000      11991.000000     11991.000000   \n",
       "mean            0.629658        0.716683          3.802852       200.473522   \n",
       "std             0.241070        0.168343          1.163238        48.727813   \n",
       "min             0.090000        0.360000          2.000000        96.000000   \n",
       "25%             0.480000        0.570000          3.000000       157.000000   \n",
       "50%             0.660000        0.720000          4.000000       200.000000   \n",
       "75%             0.820000        0.860000          5.000000       243.000000   \n",
       "max             1.000000        1.000000          7.000000       310.000000   \n",
       "\n",
       "       timeSpent_company  workAccident          left  promotionInLast5years  \n",
       "count       11991.000000  11991.000000  11991.000000           11991.000000  \n",
       "mean            3.364857      0.154282      0.166041               0.016929  \n",
       "std             1.330240      0.361234      0.372133               0.129012  \n",
       "min             2.000000      0.000000      0.000000               0.000000  \n",
       "25%             3.000000      0.000000      0.000000               0.000000  \n",
       "50%             3.000000      0.000000      0.000000               0.000000  \n",
       "75%             4.000000      0.000000      0.000000               0.000000  \n",
       "max            10.000000      1.000000      1.000000               1.000000  "
      ]
     },
     "execution_count": 22,
     "metadata": {},
     "output_type": "execute_result"
    }
   ],
   "source": [
    "#Descriptive statistics\n",
    "df.describe()"
   ]
  },
  {
   "cell_type": "code",
   "execution_count": 23,
   "id": "6cd927db",
   "metadata": {},
   "outputs": [
    {
     "data": {
      "text/html": [
       "<div>\n",
       "<style scoped>\n",
       "    .dataframe tbody tr th:only-of-type {\n",
       "        vertical-align: middle;\n",
       "    }\n",
       "\n",
       "    .dataframe tbody tr th {\n",
       "        vertical-align: top;\n",
       "    }\n",
       "\n",
       "    .dataframe thead th {\n",
       "        text-align: right;\n",
       "    }\n",
       "</style>\n",
       "<table border=\"1\" class=\"dataframe\">\n",
       "  <thead>\n",
       "    <tr style=\"text-align: right;\">\n",
       "      <th></th>\n",
       "      <th>satisfactoryLevel</th>\n",
       "      <th>lastEvaluation</th>\n",
       "      <th>numberOfProjects</th>\n",
       "      <th>avgMonthlyHours</th>\n",
       "      <th>timeSpent_company</th>\n",
       "      <th>workAccident</th>\n",
       "      <th>left</th>\n",
       "      <th>promotionInLast5years</th>\n",
       "      <th>dept</th>\n",
       "      <th>salary</th>\n",
       "    </tr>\n",
       "  </thead>\n",
       "  <tbody>\n",
       "    <tr>\n",
       "      <th>count</th>\n",
       "      <td>11991.000000</td>\n",
       "      <td>11991.000000</td>\n",
       "      <td>11991.000000</td>\n",
       "      <td>11991.000000</td>\n",
       "      <td>11991.000000</td>\n",
       "      <td>11991.000000</td>\n",
       "      <td>11991.000000</td>\n",
       "      <td>11991.000000</td>\n",
       "      <td>11991</td>\n",
       "      <td>11991</td>\n",
       "    </tr>\n",
       "    <tr>\n",
       "      <th>unique</th>\n",
       "      <td>NaN</td>\n",
       "      <td>NaN</td>\n",
       "      <td>NaN</td>\n",
       "      <td>NaN</td>\n",
       "      <td>NaN</td>\n",
       "      <td>NaN</td>\n",
       "      <td>NaN</td>\n",
       "      <td>NaN</td>\n",
       "      <td>10</td>\n",
       "      <td>3</td>\n",
       "    </tr>\n",
       "    <tr>\n",
       "      <th>top</th>\n",
       "      <td>NaN</td>\n",
       "      <td>NaN</td>\n",
       "      <td>NaN</td>\n",
       "      <td>NaN</td>\n",
       "      <td>NaN</td>\n",
       "      <td>NaN</td>\n",
       "      <td>NaN</td>\n",
       "      <td>NaN</td>\n",
       "      <td>sales</td>\n",
       "      <td>low</td>\n",
       "    </tr>\n",
       "    <tr>\n",
       "      <th>freq</th>\n",
       "      <td>NaN</td>\n",
       "      <td>NaN</td>\n",
       "      <td>NaN</td>\n",
       "      <td>NaN</td>\n",
       "      <td>NaN</td>\n",
       "      <td>NaN</td>\n",
       "      <td>NaN</td>\n",
       "      <td>NaN</td>\n",
       "      <td>3239</td>\n",
       "      <td>5740</td>\n",
       "    </tr>\n",
       "    <tr>\n",
       "      <th>mean</th>\n",
       "      <td>0.629658</td>\n",
       "      <td>0.716683</td>\n",
       "      <td>3.802852</td>\n",
       "      <td>200.473522</td>\n",
       "      <td>3.364857</td>\n",
       "      <td>0.154282</td>\n",
       "      <td>0.166041</td>\n",
       "      <td>0.016929</td>\n",
       "      <td>NaN</td>\n",
       "      <td>NaN</td>\n",
       "    </tr>\n",
       "    <tr>\n",
       "      <th>std</th>\n",
       "      <td>0.241070</td>\n",
       "      <td>0.168343</td>\n",
       "      <td>1.163238</td>\n",
       "      <td>48.727813</td>\n",
       "      <td>1.330240</td>\n",
       "      <td>0.361234</td>\n",
       "      <td>0.372133</td>\n",
       "      <td>0.129012</td>\n",
       "      <td>NaN</td>\n",
       "      <td>NaN</td>\n",
       "    </tr>\n",
       "    <tr>\n",
       "      <th>min</th>\n",
       "      <td>0.090000</td>\n",
       "      <td>0.360000</td>\n",
       "      <td>2.000000</td>\n",
       "      <td>96.000000</td>\n",
       "      <td>2.000000</td>\n",
       "      <td>0.000000</td>\n",
       "      <td>0.000000</td>\n",
       "      <td>0.000000</td>\n",
       "      <td>NaN</td>\n",
       "      <td>NaN</td>\n",
       "    </tr>\n",
       "    <tr>\n",
       "      <th>25%</th>\n",
       "      <td>0.480000</td>\n",
       "      <td>0.570000</td>\n",
       "      <td>3.000000</td>\n",
       "      <td>157.000000</td>\n",
       "      <td>3.000000</td>\n",
       "      <td>0.000000</td>\n",
       "      <td>0.000000</td>\n",
       "      <td>0.000000</td>\n",
       "      <td>NaN</td>\n",
       "      <td>NaN</td>\n",
       "    </tr>\n",
       "    <tr>\n",
       "      <th>50%</th>\n",
       "      <td>0.660000</td>\n",
       "      <td>0.720000</td>\n",
       "      <td>4.000000</td>\n",
       "      <td>200.000000</td>\n",
       "      <td>3.000000</td>\n",
       "      <td>0.000000</td>\n",
       "      <td>0.000000</td>\n",
       "      <td>0.000000</td>\n",
       "      <td>NaN</td>\n",
       "      <td>NaN</td>\n",
       "    </tr>\n",
       "    <tr>\n",
       "      <th>75%</th>\n",
       "      <td>0.820000</td>\n",
       "      <td>0.860000</td>\n",
       "      <td>5.000000</td>\n",
       "      <td>243.000000</td>\n",
       "      <td>4.000000</td>\n",
       "      <td>0.000000</td>\n",
       "      <td>0.000000</td>\n",
       "      <td>0.000000</td>\n",
       "      <td>NaN</td>\n",
       "      <td>NaN</td>\n",
       "    </tr>\n",
       "    <tr>\n",
       "      <th>max</th>\n",
       "      <td>1.000000</td>\n",
       "      <td>1.000000</td>\n",
       "      <td>7.000000</td>\n",
       "      <td>310.000000</td>\n",
       "      <td>10.000000</td>\n",
       "      <td>1.000000</td>\n",
       "      <td>1.000000</td>\n",
       "      <td>1.000000</td>\n",
       "      <td>NaN</td>\n",
       "      <td>NaN</td>\n",
       "    </tr>\n",
       "  </tbody>\n",
       "</table>\n",
       "</div>"
      ],
      "text/plain": [
       "        satisfactoryLevel  lastEvaluation  numberOfProjects  avgMonthlyHours  \\\n",
       "count        11991.000000    11991.000000      11991.000000     11991.000000   \n",
       "unique                NaN             NaN               NaN              NaN   \n",
       "top                   NaN             NaN               NaN              NaN   \n",
       "freq                  NaN             NaN               NaN              NaN   \n",
       "mean             0.629658        0.716683          3.802852       200.473522   \n",
       "std              0.241070        0.168343          1.163238        48.727813   \n",
       "min              0.090000        0.360000          2.000000        96.000000   \n",
       "25%              0.480000        0.570000          3.000000       157.000000   \n",
       "50%              0.660000        0.720000          4.000000       200.000000   \n",
       "75%              0.820000        0.860000          5.000000       243.000000   \n",
       "max              1.000000        1.000000          7.000000       310.000000   \n",
       "\n",
       "        timeSpent_company  workAccident          left  promotionInLast5years  \\\n",
       "count        11991.000000  11991.000000  11991.000000           11991.000000   \n",
       "unique                NaN           NaN           NaN                    NaN   \n",
       "top                   NaN           NaN           NaN                    NaN   \n",
       "freq                  NaN           NaN           NaN                    NaN   \n",
       "mean             3.364857      0.154282      0.166041               0.016929   \n",
       "std              1.330240      0.361234      0.372133               0.129012   \n",
       "min              2.000000      0.000000      0.000000               0.000000   \n",
       "25%              3.000000      0.000000      0.000000               0.000000   \n",
       "50%              3.000000      0.000000      0.000000               0.000000   \n",
       "75%              4.000000      0.000000      0.000000               0.000000   \n",
       "max             10.000000      1.000000      1.000000               1.000000   \n",
       "\n",
       "         dept salary  \n",
       "count   11991  11991  \n",
       "unique     10      3  \n",
       "top     sales    low  \n",
       "freq     3239   5740  \n",
       "mean      NaN    NaN  \n",
       "std       NaN    NaN  \n",
       "min       NaN    NaN  \n",
       "25%       NaN    NaN  \n",
       "50%       NaN    NaN  \n",
       "75%       NaN    NaN  \n",
       "max       NaN    NaN  "
      ]
     },
     "execution_count": 23,
     "metadata": {},
     "output_type": "execute_result"
    }
   ],
   "source": [
    "df.describe(include='all')"
   ]
  },
  {
   "cell_type": "markdown",
   "id": "f26cf9d6",
   "metadata": {},
   "source": [
    "Normality test"
   ]
  },
  {
   "cell_type": "code",
   "execution_count": 26,
   "id": "c678590a",
   "metadata": {},
   "outputs": [
    {
     "data": {
      "image/png": "[encoded data removed]",
      "text/plain": [
       "<Figure size 1500x1000 with 1 Axes>"
      ]
     },
     "metadata": {},
     "output_type": "display_data"
    }
   ],
   "source": [
    "plt.figure(figsize=(15,10))\n",
    "plt.hist(df['satisfactoryLevel'])\n",
    "plt.show()"
   ]
  },
  {
   "cell_type": "code",
   "execution_count": 29,
   "id": "3b1ffa1b",
   "metadata": {},
   "outputs": [
    {
     "name": "stderr",
     "output_type": "stream",
     "text": [
      "C:\\Users\\Jasmine Ansari\\AppData\\Local\\Temp\\ipykernel_11300\\1493630512.py:1: UserWarning: \n",
      "\n",
      "`distplot` is a deprecated function and will be removed in seaborn v0.14.0.\n",
      "\n",
      "Please adapt your code to use either `displot` (a figure-level function with\n",
      "similar flexibility) or `histplot` (an axes-level function for histograms).\n",
      "\n",
      "For a guide to updating your code to use the new functions, please see\n",
      "https://gist.github.com/mwaskom/de44147ed2974457ad6372750bbe5751\n",
      "\n",
      "  sns.distplot(df['satisfactoryLevel'])\n"
     ]
    },
    {
     "data": {
      "text/plain": [
       "<Axes: xlabel='satisfactoryLevel', ylabel='Density'>"
      ]
     },
     "execution_count": 29,
     "metadata": {},
     "output_type": "execute_result"
    },
    {
     "data": {
      "image/png": "[encoded data removed]",
      "text/plain": [
       "<Figure size 640x480 with 1 Axes>"
      ]
     },
     "metadata": {},
     "output_type": "display_data"
    }
   ],
   "source": [
    "sns.distplot(df['satisfactoryLevel'])"
   ]
  },
  {
   "cell_type": "code",
   "execution_count": 30,
   "id": "3f885ee3",
   "metadata": {},
   "outputs": [
    {
     "data": {
      "text/plain": [
       "<Axes: xlabel='satisfactoryLevel', ylabel='Density'>"
      ]
     },
     "execution_count": 30,
     "metadata": {},
     "output_type": "execute_result"
    },
    {
     "data": {
      "image/png": "[encoded data removed]",
      "text/plain": [
       "<Figure size 640x480 with 1 Axes>"
      ]
     },
     "metadata": {},
     "output_type": "display_data"
    }
   ],
   "source": [
    "sns.kdeplot(x='satisfactoryLevel', data=df)"
   ]
  },
  {
   "cell_type": "code",
   "execution_count": 31,
   "id": "88190f9c",
   "metadata": {},
   "outputs": [],
   "source": [
    "#h0 = data is normally distributed\n",
    "#ha = data is not normally distributed"
   ]
  },
  {
   "cell_type": "code",
   "execution_count": 32,
   "id": "b1d9713f",
   "metadata": {},
   "outputs": [],
   "source": [
    "from scipy.stats import shapiro"
   ]
  },
  {
   "cell_type": "code",
   "execution_count": 33,
   "id": "3817459b",
   "metadata": {},
   "outputs": [
    {
     "name": "stderr",
     "output_type": "stream",
     "text": [
      "C:\\Users\\Jasmine Ansari\\anaconda3\\lib\\site-packages\\scipy\\stats\\_morestats.py:1816: UserWarning: p-value may not be accurate for N > 5000.\n",
      "  warnings.warn(\"p-value may not be accurate for N > 5000.\")\n"
     ]
    }
   ],
   "source": [
    "stat,p_value = shapiro(df['satisfactoryLevel'])"
   ]
  },
  {
   "cell_type": "code",
   "execution_count": 34,
   "id": "cc0a9852",
   "metadata": {},
   "outputs": [
    {
     "name": "stdout",
     "output_type": "stream",
     "text": [
      "0.0\n"
     ]
    }
   ],
   "source": [
    "print(p_value)"
   ]
  },
  {
   "cell_type": "code",
   "execution_count": 35,
   "id": "9b81f60c",
   "metadata": {},
   "outputs": [
    {
     "name": "stdout",
     "output_type": "stream",
     "text": [
      "0.9526872038841248\n"
     ]
    }
   ],
   "source": [
    "print(stat)"
   ]
  },
  {
   "cell_type": "code",
   "execution_count": 36,
   "id": "905d3f3f",
   "metadata": {},
   "outputs": [],
   "source": [
    "#p value is less than 0.05 reject null hypothesis, data is not normally distributed"
   ]
  },
  {
   "cell_type": "code",
   "execution_count": 37,
   "id": "554e471b",
   "metadata": {},
   "outputs": [
    {
     "data": {
      "text/html": [
       "<div>\n",
       "<style scoped>\n",
       "    .dataframe tbody tr th:only-of-type {\n",
       "        vertical-align: middle;\n",
       "    }\n",
       "\n",
       "    .dataframe tbody tr th {\n",
       "        vertical-align: top;\n",
       "    }\n",
       "\n",
       "    .dataframe thead th {\n",
       "        text-align: right;\n",
       "    }\n",
       "</style>\n",
       "<table border=\"1\" class=\"dataframe\">\n",
       "  <thead>\n",
       "    <tr style=\"text-align: right;\">\n",
       "      <th></th>\n",
       "      <th>satisfactoryLevel</th>\n",
       "      <th>lastEvaluation</th>\n",
       "      <th>numberOfProjects</th>\n",
       "      <th>avgMonthlyHours</th>\n",
       "      <th>timeSpent_company</th>\n",
       "      <th>workAccident</th>\n",
       "      <th>left</th>\n",
       "      <th>promotionInLast5years</th>\n",
       "      <th>dept</th>\n",
       "      <th>salary</th>\n",
       "    </tr>\n",
       "  </thead>\n",
       "  <tbody>\n",
       "    <tr>\n",
       "      <th>0</th>\n",
       "      <td>0.38</td>\n",
       "      <td>0.53</td>\n",
       "      <td>2</td>\n",
       "      <td>157</td>\n",
       "      <td>3</td>\n",
       "      <td>0</td>\n",
       "      <td>1</td>\n",
       "      <td>0</td>\n",
       "      <td>sales</td>\n",
       "      <td>low</td>\n",
       "    </tr>\n",
       "    <tr>\n",
       "      <th>1</th>\n",
       "      <td>0.80</td>\n",
       "      <td>0.86</td>\n",
       "      <td>5</td>\n",
       "      <td>262</td>\n",
       "      <td>6</td>\n",
       "      <td>0</td>\n",
       "      <td>1</td>\n",
       "      <td>0</td>\n",
       "      <td>sales</td>\n",
       "      <td>medium</td>\n",
       "    </tr>\n",
       "    <tr>\n",
       "      <th>2</th>\n",
       "      <td>0.11</td>\n",
       "      <td>0.88</td>\n",
       "      <td>7</td>\n",
       "      <td>272</td>\n",
       "      <td>4</td>\n",
       "      <td>0</td>\n",
       "      <td>1</td>\n",
       "      <td>0</td>\n",
       "      <td>sales</td>\n",
       "      <td>medium</td>\n",
       "    </tr>\n",
       "    <tr>\n",
       "      <th>3</th>\n",
       "      <td>0.37</td>\n",
       "      <td>0.52</td>\n",
       "      <td>2</td>\n",
       "      <td>159</td>\n",
       "      <td>3</td>\n",
       "      <td>0</td>\n",
       "      <td>1</td>\n",
       "      <td>0</td>\n",
       "      <td>sales</td>\n",
       "      <td>low</td>\n",
       "    </tr>\n",
       "    <tr>\n",
       "      <th>4</th>\n",
       "      <td>0.41</td>\n",
       "      <td>0.50</td>\n",
       "      <td>2</td>\n",
       "      <td>153</td>\n",
       "      <td>3</td>\n",
       "      <td>0</td>\n",
       "      <td>1</td>\n",
       "      <td>0</td>\n",
       "      <td>sales</td>\n",
       "      <td>low</td>\n",
       "    </tr>\n",
       "    <tr>\n",
       "      <th>...</th>\n",
       "      <td>...</td>\n",
       "      <td>...</td>\n",
       "      <td>...</td>\n",
       "      <td>...</td>\n",
       "      <td>...</td>\n",
       "      <td>...</td>\n",
       "      <td>...</td>\n",
       "      <td>...</td>\n",
       "      <td>...</td>\n",
       "      <td>...</td>\n",
       "    </tr>\n",
       "    <tr>\n",
       "      <th>14992</th>\n",
       "      <td>0.30</td>\n",
       "      <td>0.88</td>\n",
       "      <td>5</td>\n",
       "      <td>245</td>\n",
       "      <td>4</td>\n",
       "      <td>0</td>\n",
       "      <td>0</td>\n",
       "      <td>0</td>\n",
       "      <td>hr</td>\n",
       "      <td>low</td>\n",
       "    </tr>\n",
       "    <tr>\n",
       "      <th>14995</th>\n",
       "      <td>0.99</td>\n",
       "      <td>0.83</td>\n",
       "      <td>4</td>\n",
       "      <td>274</td>\n",
       "      <td>2</td>\n",
       "      <td>0</td>\n",
       "      <td>0</td>\n",
       "      <td>0</td>\n",
       "      <td>sales</td>\n",
       "      <td>low</td>\n",
       "    </tr>\n",
       "    <tr>\n",
       "      <th>14996</th>\n",
       "      <td>0.72</td>\n",
       "      <td>0.72</td>\n",
       "      <td>4</td>\n",
       "      <td>175</td>\n",
       "      <td>4</td>\n",
       "      <td>0</td>\n",
       "      <td>0</td>\n",
       "      <td>0</td>\n",
       "      <td>technical</td>\n",
       "      <td>low</td>\n",
       "    </tr>\n",
       "    <tr>\n",
       "      <th>14997</th>\n",
       "      <td>0.24</td>\n",
       "      <td>0.91</td>\n",
       "      <td>5</td>\n",
       "      <td>177</td>\n",
       "      <td>5</td>\n",
       "      <td>0</td>\n",
       "      <td>0</td>\n",
       "      <td>0</td>\n",
       "      <td>sales</td>\n",
       "      <td>low</td>\n",
       "    </tr>\n",
       "    <tr>\n",
       "      <th>14998</th>\n",
       "      <td>0.77</td>\n",
       "      <td>0.83</td>\n",
       "      <td>6</td>\n",
       "      <td>271</td>\n",
       "      <td>3</td>\n",
       "      <td>0</td>\n",
       "      <td>0</td>\n",
       "      <td>0</td>\n",
       "      <td>support</td>\n",
       "      <td>low</td>\n",
       "    </tr>\n",
       "  </tbody>\n",
       "</table>\n",
       "<p>11991 rows × 10 columns</p>\n",
       "</div>"
      ],
      "text/plain": [
       "       satisfactoryLevel  lastEvaluation  numberOfProjects  avgMonthlyHours  \\\n",
       "0                   0.38            0.53                 2              157   \n",
       "1                   0.80            0.86                 5              262   \n",
       "2                   0.11            0.88                 7              272   \n",
       "3                   0.37            0.52                 2              159   \n",
       "4                   0.41            0.50                 2              153   \n",
       "...                  ...             ...               ...              ...   \n",
       "14992               0.30            0.88                 5              245   \n",
       "14995               0.99            0.83                 4              274   \n",
       "14996               0.72            0.72                 4              175   \n",
       "14997               0.24            0.91                 5              177   \n",
       "14998               0.77            0.83                 6              271   \n",
       "\n",
       "       timeSpent_company  workAccident  left  promotionInLast5years  \\\n",
       "0                      3             0     1                      0   \n",
       "1                      6             0     1                      0   \n",
       "2                      4             0     1                      0   \n",
       "3                      3             0     1                      0   \n",
       "4                      3             0     1                      0   \n",
       "...                  ...           ...   ...                    ...   \n",
       "14992                  4             0     0                      0   \n",
       "14995                  2             0     0                      0   \n",
       "14996                  4             0     0                      0   \n",
       "14997                  5             0     0                      0   \n",
       "14998                  3             0     0                      0   \n",
       "\n",
       "            dept  salary  \n",
       "0          sales     low  \n",
       "1          sales  medium  \n",
       "2          sales  medium  \n",
       "3          sales     low  \n",
       "4          sales     low  \n",
       "...          ...     ...  \n",
       "14992         hr     low  \n",
       "14995      sales     low  \n",
       "14996  technical     low  \n",
       "14997      sales     low  \n",
       "14998    support     low  \n",
       "\n",
       "[11991 rows x 10 columns]"
      ]
     },
     "execution_count": 37,
     "metadata": {},
     "output_type": "execute_result"
    }
   ],
   "source": [
    "df"
   ]
  },
  {
   "cell_type": "code",
   "execution_count": 38,
   "id": "225a958e",
   "metadata": {},
   "outputs": [
    {
     "data": {
      "text/plain": [
       "array(['low', 'medium', 'high'], dtype=object)"
      ]
     },
     "execution_count": 38,
     "metadata": {},
     "output_type": "execute_result"
    }
   ],
   "source": [
    "#Categorical variable\n",
    "df['salary'].unique()"
   ]
  },
  {
   "cell_type": "code",
   "execution_count": 39,
   "id": "afefc33a",
   "metadata": {},
   "outputs": [
    {
     "data": {
      "text/plain": [
       "array(['sales', 'accounting', 'hr', 'technical', 'support', 'IT',\n",
       "       'product_mng', 'marketing', 'management', 'RandD'], dtype=object)"
      ]
     },
     "execution_count": 39,
     "metadata": {},
     "output_type": "execute_result"
    }
   ],
   "source": [
    "#Categorical variable\n",
    "df['dept'].unique()"
   ]
  },
  {
   "cell_type": "code",
   "execution_count": 40,
   "id": "f2478146",
   "metadata": {},
   "outputs": [],
   "source": [
    "df1=df"
   ]
  },
  {
   "cell_type": "code",
   "execution_count": 41,
   "id": "20b943d8",
   "metadata": {},
   "outputs": [],
   "source": [
    "#Label Encoding\n",
    "#Converting categorical variable to numerical\n",
    "from sklearn.preprocessing import LabelEncoder\n",
    "l1=LabelEncoder()\n",
    "df1['salary']=l1.fit_transform(df1['salary'])"
   ]
  },
  {
   "cell_type": "code",
   "execution_count": 42,
   "id": "79d753b2",
   "metadata": {},
   "outputs": [
    {
     "data": {
      "text/html": [
       "<div>\n",
       "<style scoped>\n",
       "    .dataframe tbody tr th:only-of-type {\n",
       "        vertical-align: middle;\n",
       "    }\n",
       "\n",
       "    .dataframe tbody tr th {\n",
       "        vertical-align: top;\n",
       "    }\n",
       "\n",
       "    .dataframe thead th {\n",
       "        text-align: right;\n",
       "    }\n",
       "</style>\n",
       "<table border=\"1\" class=\"dataframe\">\n",
       "  <thead>\n",
       "    <tr style=\"text-align: right;\">\n",
       "      <th></th>\n",
       "      <th>satisfactoryLevel</th>\n",
       "      <th>lastEvaluation</th>\n",
       "      <th>numberOfProjects</th>\n",
       "      <th>avgMonthlyHours</th>\n",
       "      <th>timeSpent_company</th>\n",
       "      <th>workAccident</th>\n",
       "      <th>left</th>\n",
       "      <th>promotionInLast5years</th>\n",
       "      <th>dept</th>\n",
       "      <th>salary</th>\n",
       "    </tr>\n",
       "  </thead>\n",
       "  <tbody>\n",
       "    <tr>\n",
       "      <th>0</th>\n",
       "      <td>0.38</td>\n",
       "      <td>0.53</td>\n",
       "      <td>2</td>\n",
       "      <td>157</td>\n",
       "      <td>3</td>\n",
       "      <td>0</td>\n",
       "      <td>1</td>\n",
       "      <td>0</td>\n",
       "      <td>sales</td>\n",
       "      <td>1</td>\n",
       "    </tr>\n",
       "    <tr>\n",
       "      <th>1</th>\n",
       "      <td>0.80</td>\n",
       "      <td>0.86</td>\n",
       "      <td>5</td>\n",
       "      <td>262</td>\n",
       "      <td>6</td>\n",
       "      <td>0</td>\n",
       "      <td>1</td>\n",
       "      <td>0</td>\n",
       "      <td>sales</td>\n",
       "      <td>2</td>\n",
       "    </tr>\n",
       "    <tr>\n",
       "      <th>2</th>\n",
       "      <td>0.11</td>\n",
       "      <td>0.88</td>\n",
       "      <td>7</td>\n",
       "      <td>272</td>\n",
       "      <td>4</td>\n",
       "      <td>0</td>\n",
       "      <td>1</td>\n",
       "      <td>0</td>\n",
       "      <td>sales</td>\n",
       "      <td>2</td>\n",
       "    </tr>\n",
       "    <tr>\n",
       "      <th>3</th>\n",
       "      <td>0.37</td>\n",
       "      <td>0.52</td>\n",
       "      <td>2</td>\n",
       "      <td>159</td>\n",
       "      <td>3</td>\n",
       "      <td>0</td>\n",
       "      <td>1</td>\n",
       "      <td>0</td>\n",
       "      <td>sales</td>\n",
       "      <td>1</td>\n",
       "    </tr>\n",
       "    <tr>\n",
       "      <th>4</th>\n",
       "      <td>0.41</td>\n",
       "      <td>0.50</td>\n",
       "      <td>2</td>\n",
       "      <td>153</td>\n",
       "      <td>3</td>\n",
       "      <td>0</td>\n",
       "      <td>1</td>\n",
       "      <td>0</td>\n",
       "      <td>sales</td>\n",
       "      <td>1</td>\n",
       "    </tr>\n",
       "  </tbody>\n",
       "</table>\n",
       "</div>"
      ],
      "text/plain": [
       "   satisfactoryLevel  lastEvaluation  numberOfProjects  avgMonthlyHours  \\\n",
       "0               0.38            0.53                 2              157   \n",
       "1               0.80            0.86                 5              262   \n",
       "2               0.11            0.88                 7              272   \n",
       "3               0.37            0.52                 2              159   \n",
       "4               0.41            0.50                 2              153   \n",
       "\n",
       "   timeSpent_company  workAccident  left  promotionInLast5years   dept  salary  \n",
       "0                  3             0     1                      0  sales       1  \n",
       "1                  6             0     1                      0  sales       2  \n",
       "2                  4             0     1                      0  sales       2  \n",
       "3                  3             0     1                      0  sales       1  \n",
       "4                  3             0     1                      0  sales       1  "
      ]
     },
     "execution_count": 42,
     "metadata": {},
     "output_type": "execute_result"
    }
   ],
   "source": [
    "df.head()"
   ]
  },
  {
   "cell_type": "code",
   "execution_count": 43,
   "id": "c5dbb722",
   "metadata": {},
   "outputs": [],
   "source": [
    "l1=LabelEncoder()\n",
    "df1['dept']=l1.fit_transform(df['dept'])"
   ]
  },
  {
   "cell_type": "code",
   "execution_count": 44,
   "id": "111271a1",
   "metadata": {},
   "outputs": [
    {
     "data": {
      "text/plain": [
       "array([1, 2, 0])"
      ]
     },
     "execution_count": 44,
     "metadata": {},
     "output_type": "execute_result"
    }
   ],
   "source": [
    "df1['salary'].unique()"
   ]
  },
  {
   "cell_type": "code",
   "execution_count": 45,
   "id": "14190fc1",
   "metadata": {},
   "outputs": [
    {
     "data": {
      "text/plain": [
       "array([7, 2, 3, 9, 8, 0, 6, 5, 4, 1])"
      ]
     },
     "execution_count": 45,
     "metadata": {},
     "output_type": "execute_result"
    }
   ],
   "source": [
    "df1['dept'].unique()"
   ]
  },
  {
   "cell_type": "code",
   "execution_count": 46,
   "id": "05a396da",
   "metadata": {},
   "outputs": [
    {
     "data": {
      "text/html": [
       "<div>\n",
       "<style scoped>\n",
       "    .dataframe tbody tr th:only-of-type {\n",
       "        vertical-align: middle;\n",
       "    }\n",
       "\n",
       "    .dataframe tbody tr th {\n",
       "        vertical-align: top;\n",
       "    }\n",
       "\n",
       "    .dataframe thead th {\n",
       "        text-align: right;\n",
       "    }\n",
       "</style>\n",
       "<table border=\"1\" class=\"dataframe\">\n",
       "  <thead>\n",
       "    <tr style=\"text-align: right;\">\n",
       "      <th></th>\n",
       "      <th>satisfactoryLevel</th>\n",
       "      <th>lastEvaluation</th>\n",
       "      <th>numberOfProjects</th>\n",
       "      <th>avgMonthlyHours</th>\n",
       "      <th>timeSpent_company</th>\n",
       "      <th>workAccident</th>\n",
       "      <th>left</th>\n",
       "      <th>promotionInLast5years</th>\n",
       "      <th>dept</th>\n",
       "      <th>salary</th>\n",
       "    </tr>\n",
       "  </thead>\n",
       "  <tbody>\n",
       "    <tr>\n",
       "      <th>satisfactoryLevel</th>\n",
       "      <td>1.000000</td>\n",
       "      <td>0.095186</td>\n",
       "      <td>-0.133246</td>\n",
       "      <td>-0.006252</td>\n",
       "      <td>-0.152915</td>\n",
       "      <td>0.039940</td>\n",
       "      <td>-0.350558</td>\n",
       "      <td>0.019789</td>\n",
       "      <td>0.006941</td>\n",
       "      <td>0.007216</td>\n",
       "    </tr>\n",
       "    <tr>\n",
       "      <th>lastEvaluation</th>\n",
       "      <td>0.095186</td>\n",
       "      <td>1.000000</td>\n",
       "      <td>0.270256</td>\n",
       "      <td>0.264678</td>\n",
       "      <td>0.096829</td>\n",
       "      <td>-0.005695</td>\n",
       "      <td>0.013520</td>\n",
       "      <td>-0.007206</td>\n",
       "      <td>0.004309</td>\n",
       "      <td>0.007091</td>\n",
       "    </tr>\n",
       "    <tr>\n",
       "      <th>numberOfProjects</th>\n",
       "      <td>-0.133246</td>\n",
       "      <td>0.270256</td>\n",
       "      <td>1.000000</td>\n",
       "      <td>0.331516</td>\n",
       "      <td>0.188837</td>\n",
       "      <td>-0.005612</td>\n",
       "      <td>0.030928</td>\n",
       "      <td>-0.000544</td>\n",
       "      <td>0.010101</td>\n",
       "      <td>0.003199</td>\n",
       "    </tr>\n",
       "    <tr>\n",
       "      <th>avgMonthlyHours</th>\n",
       "      <td>-0.006252</td>\n",
       "      <td>0.264678</td>\n",
       "      <td>0.331516</td>\n",
       "      <td>1.000000</td>\n",
       "      <td>0.102875</td>\n",
       "      <td>-0.012860</td>\n",
       "      <td>0.070409</td>\n",
       "      <td>-0.004964</td>\n",
       "      <td>0.000623</td>\n",
       "      <td>0.002727</td>\n",
       "    </tr>\n",
       "    <tr>\n",
       "      <th>timeSpent_company</th>\n",
       "      <td>-0.152915</td>\n",
       "      <td>0.096829</td>\n",
       "      <td>0.188837</td>\n",
       "      <td>0.102875</td>\n",
       "      <td>1.000000</td>\n",
       "      <td>0.000003</td>\n",
       "      <td>0.173295</td>\n",
       "      <td>0.056828</td>\n",
       "      <td>-0.017806</td>\n",
       "      <td>0.000369</td>\n",
       "    </tr>\n",
       "    <tr>\n",
       "      <th>workAccident</th>\n",
       "      <td>0.039940</td>\n",
       "      <td>-0.005695</td>\n",
       "      <td>-0.005612</td>\n",
       "      <td>-0.012860</td>\n",
       "      <td>0.000003</td>\n",
       "      <td>1.000000</td>\n",
       "      <td>-0.125436</td>\n",
       "      <td>0.029852</td>\n",
       "      <td>0.006560</td>\n",
       "      <td>-0.003654</td>\n",
       "    </tr>\n",
       "    <tr>\n",
       "      <th>left</th>\n",
       "      <td>-0.350558</td>\n",
       "      <td>0.013520</td>\n",
       "      <td>0.030928</td>\n",
       "      <td>0.070409</td>\n",
       "      <td>0.173295</td>\n",
       "      <td>-0.125436</td>\n",
       "      <td>1.000000</td>\n",
       "      <td>-0.044657</td>\n",
       "      <td>0.018286</td>\n",
       "      <td>0.004224</td>\n",
       "    </tr>\n",
       "    <tr>\n",
       "      <th>promotionInLast5years</th>\n",
       "      <td>0.019789</td>\n",
       "      <td>-0.007206</td>\n",
       "      <td>-0.000544</td>\n",
       "      <td>-0.004964</td>\n",
       "      <td>0.056828</td>\n",
       "      <td>0.029852</td>\n",
       "      <td>-0.044657</td>\n",
       "      <td>1.000000</td>\n",
       "      <td>-0.023826</td>\n",
       "      <td>0.004832</td>\n",
       "    </tr>\n",
       "    <tr>\n",
       "      <th>dept</th>\n",
       "      <td>0.006941</td>\n",
       "      <td>0.004309</td>\n",
       "      <td>0.010101</td>\n",
       "      <td>0.000623</td>\n",
       "      <td>-0.017806</td>\n",
       "      <td>0.006560</td>\n",
       "      <td>0.018286</td>\n",
       "      <td>-0.023826</td>\n",
       "      <td>1.000000</td>\n",
       "      <td>0.006702</td>\n",
       "    </tr>\n",
       "    <tr>\n",
       "      <th>salary</th>\n",
       "      <td>0.007216</td>\n",
       "      <td>0.007091</td>\n",
       "      <td>0.003199</td>\n",
       "      <td>0.002727</td>\n",
       "      <td>0.000369</td>\n",
       "      <td>-0.003654</td>\n",
       "      <td>0.004224</td>\n",
       "      <td>0.004832</td>\n",
       "      <td>0.006702</td>\n",
       "      <td>1.000000</td>\n",
       "    </tr>\n",
       "  </tbody>\n",
       "</table>\n",
       "</div>"
      ],
      "text/plain": [
       "                       satisfactoryLevel  lastEvaluation  numberOfProjects  \\\n",
       "satisfactoryLevel               1.000000        0.095186         -0.133246   \n",
       "lastEvaluation                  0.095186        1.000000          0.270256   \n",
       "numberOfProjects               -0.133246        0.270256          1.000000   \n",
       "avgMonthlyHours                -0.006252        0.264678          0.331516   \n",
       "timeSpent_company              -0.152915        0.096829          0.188837   \n",
       "workAccident                    0.039940       -0.005695         -0.005612   \n",
       "left                           -0.350558        0.013520          0.030928   \n",
       "promotionInLast5years           0.019789       -0.007206         -0.000544   \n",
       "dept                            0.006941        0.004309          0.010101   \n",
       "salary                          0.007216        0.007091          0.003199   \n",
       "\n",
       "                       avgMonthlyHours  timeSpent_company  workAccident  \\\n",
       "satisfactoryLevel            -0.006252          -0.152915      0.039940   \n",
       "lastEvaluation                0.264678           0.096829     -0.005695   \n",
       "numberOfProjects              0.331516           0.188837     -0.005612   \n",
       "avgMonthlyHours               1.000000           0.102875     -0.012860   \n",
       "timeSpent_company             0.102875           1.000000      0.000003   \n",
       "workAccident                 -0.012860           0.000003      1.000000   \n",
       "left                          0.070409           0.173295     -0.125436   \n",
       "promotionInLast5years        -0.004964           0.056828      0.029852   \n",
       "dept                          0.000623          -0.017806      0.006560   \n",
       "salary                        0.002727           0.000369     -0.003654   \n",
       "\n",
       "                           left  promotionInLast5years      dept    salary  \n",
       "satisfactoryLevel     -0.350558               0.019789  0.006941  0.007216  \n",
       "lastEvaluation         0.013520              -0.007206  0.004309  0.007091  \n",
       "numberOfProjects       0.030928              -0.000544  0.010101  0.003199  \n",
       "avgMonthlyHours        0.070409              -0.004964  0.000623  0.002727  \n",
       "timeSpent_company      0.173295               0.056828 -0.017806  0.000369  \n",
       "workAccident          -0.125436               0.029852  0.006560 -0.003654  \n",
       "left                   1.000000              -0.044657  0.018286  0.004224  \n",
       "promotionInLast5years -0.044657               1.000000 -0.023826  0.004832  \n",
       "dept                   0.018286              -0.023826  1.000000  0.006702  \n",
       "salary                 0.004224               0.004832  0.006702  1.000000  "
      ]
     },
     "execution_count": 46,
     "metadata": {},
     "output_type": "execute_result"
    }
   ],
   "source": [
    "df1.corr()"
   ]
  },
  {
   "cell_type": "markdown",
   "id": "3f5d94f6",
   "metadata": {},
   "source": [
    "Correlation Graph"
   ]
  },
  {
   "cell_type": "code",
   "execution_count": 49,
   "id": "de454ecf",
   "metadata": {},
   "outputs": [
    {
     "data": {
      "text/plain": [
       "<Axes: >"
      ]
     },
     "execution_count": 49,
     "metadata": {},
     "output_type": "execute_result"
    },
    {
     "data": {
      "image/png": "[encoded data removed]",
      "text/plain": [
       "<Figure size 1500x1000 with 2 Axes>"
      ]
     },
     "metadata": {},
     "output_type": "display_data"
    }
   ],
   "source": [
    "plt.figure(figsize=(15,10))\n",
    "sns.heatmap(df1.corr(),annot=True,cmap='BuPu')"
   ]
  },
  {
   "cell_type": "code",
   "execution_count": 50,
   "id": "9bccc95b",
   "metadata": {},
   "outputs": [
    {
     "data": {
      "text/html": [
       "<div>\n",
       "<style scoped>\n",
       "    .dataframe tbody tr th:only-of-type {\n",
       "        vertical-align: middle;\n",
       "    }\n",
       "\n",
       "    .dataframe tbody tr th {\n",
       "        vertical-align: top;\n",
       "    }\n",
       "\n",
       "    .dataframe thead th {\n",
       "        text-align: right;\n",
       "    }\n",
       "</style>\n",
       "<table border=\"1\" class=\"dataframe\">\n",
       "  <thead>\n",
       "    <tr style=\"text-align: right;\">\n",
       "      <th></th>\n",
       "      <th>satisfactoryLevel</th>\n",
       "      <th>lastEvaluation</th>\n",
       "      <th>numberOfProjects</th>\n",
       "      <th>avgMonthlyHours</th>\n",
       "      <th>timeSpent_company</th>\n",
       "      <th>workAccident</th>\n",
       "      <th>left</th>\n",
       "      <th>promotionInLast5years</th>\n",
       "      <th>dept</th>\n",
       "      <th>salary</th>\n",
       "    </tr>\n",
       "  </thead>\n",
       "  <tbody>\n",
       "    <tr>\n",
       "      <th>0</th>\n",
       "      <td>0.38</td>\n",
       "      <td>0.53</td>\n",
       "      <td>2</td>\n",
       "      <td>157</td>\n",
       "      <td>3</td>\n",
       "      <td>0</td>\n",
       "      <td>1</td>\n",
       "      <td>0</td>\n",
       "      <td>7</td>\n",
       "      <td>1</td>\n",
       "    </tr>\n",
       "    <tr>\n",
       "      <th>1</th>\n",
       "      <td>0.80</td>\n",
       "      <td>0.86</td>\n",
       "      <td>5</td>\n",
       "      <td>262</td>\n",
       "      <td>6</td>\n",
       "      <td>0</td>\n",
       "      <td>1</td>\n",
       "      <td>0</td>\n",
       "      <td>7</td>\n",
       "      <td>2</td>\n",
       "    </tr>\n",
       "    <tr>\n",
       "      <th>2</th>\n",
       "      <td>0.11</td>\n",
       "      <td>0.88</td>\n",
       "      <td>7</td>\n",
       "      <td>272</td>\n",
       "      <td>4</td>\n",
       "      <td>0</td>\n",
       "      <td>1</td>\n",
       "      <td>0</td>\n",
       "      <td>7</td>\n",
       "      <td>2</td>\n",
       "    </tr>\n",
       "    <tr>\n",
       "      <th>3</th>\n",
       "      <td>0.37</td>\n",
       "      <td>0.52</td>\n",
       "      <td>2</td>\n",
       "      <td>159</td>\n",
       "      <td>3</td>\n",
       "      <td>0</td>\n",
       "      <td>1</td>\n",
       "      <td>0</td>\n",
       "      <td>7</td>\n",
       "      <td>1</td>\n",
       "    </tr>\n",
       "    <tr>\n",
       "      <th>4</th>\n",
       "      <td>0.41</td>\n",
       "      <td>0.50</td>\n",
       "      <td>2</td>\n",
       "      <td>153</td>\n",
       "      <td>3</td>\n",
       "      <td>0</td>\n",
       "      <td>1</td>\n",
       "      <td>0</td>\n",
       "      <td>7</td>\n",
       "      <td>1</td>\n",
       "    </tr>\n",
       "  </tbody>\n",
       "</table>\n",
       "</div>"
      ],
      "text/plain": [
       "   satisfactoryLevel  lastEvaluation  numberOfProjects  avgMonthlyHours  \\\n",
       "0               0.38            0.53                 2              157   \n",
       "1               0.80            0.86                 5              262   \n",
       "2               0.11            0.88                 7              272   \n",
       "3               0.37            0.52                 2              159   \n",
       "4               0.41            0.50                 2              153   \n",
       "\n",
       "   timeSpent_company  workAccident  left  promotionInLast5years  dept  salary  \n",
       "0                  3             0     1                      0     7       1  \n",
       "1                  6             0     1                      0     7       2  \n",
       "2                  4             0     1                      0     7       2  \n",
       "3                  3             0     1                      0     7       1  \n",
       "4                  3             0     1                      0     7       1  "
      ]
     },
     "execution_count": 50,
     "metadata": {},
     "output_type": "execute_result"
    }
   ],
   "source": [
    "df.head()"
   ]
  },
  {
   "cell_type": "code",
   "execution_count": 53,
   "id": "e119462f",
   "metadata": {},
   "outputs": [
    {
     "data": {
      "text/plain": [
       "(11991, 10)"
      ]
     },
     "execution_count": 53,
     "metadata": {},
     "output_type": "execute_result"
    }
   ],
   "source": [
    "df.shape"
   ]
  },
  {
   "cell_type": "code",
   "execution_count": 54,
   "id": "dce7b5e3",
   "metadata": {},
   "outputs": [
    {
     "data": {
      "text/html": [
       "<div>\n",
       "<style scoped>\n",
       "    .dataframe tbody tr th:only-of-type {\n",
       "        vertical-align: middle;\n",
       "    }\n",
       "\n",
       "    .dataframe tbody tr th {\n",
       "        vertical-align: top;\n",
       "    }\n",
       "\n",
       "    .dataframe thead th {\n",
       "        text-align: right;\n",
       "    }\n",
       "</style>\n",
       "<table border=\"1\" class=\"dataframe\">\n",
       "  <thead>\n",
       "    <tr style=\"text-align: right;\">\n",
       "      <th></th>\n",
       "      <th>satisfactoryLevel</th>\n",
       "      <th>lastEvaluation</th>\n",
       "      <th>numberOfProjects</th>\n",
       "      <th>avgMonthlyHours</th>\n",
       "      <th>timeSpent_company</th>\n",
       "      <th>workAccident</th>\n",
       "      <th>left</th>\n",
       "      <th>promotionInLast5years</th>\n",
       "      <th>dept</th>\n",
       "      <th>salary</th>\n",
       "    </tr>\n",
       "  </thead>\n",
       "  <tbody>\n",
       "    <tr>\n",
       "      <th>count</th>\n",
       "      <td>11991.000000</td>\n",
       "      <td>11991.000000</td>\n",
       "      <td>11991.000000</td>\n",
       "      <td>11991.000000</td>\n",
       "      <td>11991.000000</td>\n",
       "      <td>11991.000000</td>\n",
       "      <td>11991.000000</td>\n",
       "      <td>11991.000000</td>\n",
       "      <td>11991.000000</td>\n",
       "      <td>11991.000000</td>\n",
       "    </tr>\n",
       "    <tr>\n",
       "      <th>mean</th>\n",
       "      <td>0.629658</td>\n",
       "      <td>0.716683</td>\n",
       "      <td>3.802852</td>\n",
       "      <td>200.473522</td>\n",
       "      <td>3.364857</td>\n",
       "      <td>0.154282</td>\n",
       "      <td>0.166041</td>\n",
       "      <td>0.016929</td>\n",
       "      <td>5.871153</td>\n",
       "      <td>1.356184</td>\n",
       "    </tr>\n",
       "    <tr>\n",
       "      <th>std</th>\n",
       "      <td>0.241070</td>\n",
       "      <td>0.168343</td>\n",
       "      <td>1.163238</td>\n",
       "      <td>48.727813</td>\n",
       "      <td>1.330240</td>\n",
       "      <td>0.361234</td>\n",
       "      <td>0.372133</td>\n",
       "      <td>0.129012</td>\n",
       "      <td>2.899022</td>\n",
       "      <td>0.628071</td>\n",
       "    </tr>\n",
       "    <tr>\n",
       "      <th>min</th>\n",
       "      <td>0.090000</td>\n",
       "      <td>0.360000</td>\n",
       "      <td>2.000000</td>\n",
       "      <td>96.000000</td>\n",
       "      <td>2.000000</td>\n",
       "      <td>0.000000</td>\n",
       "      <td>0.000000</td>\n",
       "      <td>0.000000</td>\n",
       "      <td>0.000000</td>\n",
       "      <td>0.000000</td>\n",
       "    </tr>\n",
       "    <tr>\n",
       "      <th>25%</th>\n",
       "      <td>0.480000</td>\n",
       "      <td>0.570000</td>\n",
       "      <td>3.000000</td>\n",
       "      <td>157.000000</td>\n",
       "      <td>3.000000</td>\n",
       "      <td>0.000000</td>\n",
       "      <td>0.000000</td>\n",
       "      <td>0.000000</td>\n",
       "      <td>4.000000</td>\n",
       "      <td>1.000000</td>\n",
       "    </tr>\n",
       "    <tr>\n",
       "      <th>50%</th>\n",
       "      <td>0.660000</td>\n",
       "      <td>0.720000</td>\n",
       "      <td>4.000000</td>\n",
       "      <td>200.000000</td>\n",
       "      <td>3.000000</td>\n",
       "      <td>0.000000</td>\n",
       "      <td>0.000000</td>\n",
       "      <td>0.000000</td>\n",
       "      <td>7.000000</td>\n",
       "      <td>1.000000</td>\n",
       "    </tr>\n",
       "    <tr>\n",
       "      <th>75%</th>\n",
       "      <td>0.820000</td>\n",
       "      <td>0.860000</td>\n",
       "      <td>5.000000</td>\n",
       "      <td>243.000000</td>\n",
       "      <td>4.000000</td>\n",
       "      <td>0.000000</td>\n",
       "      <td>0.000000</td>\n",
       "      <td>0.000000</td>\n",
       "      <td>8.000000</td>\n",
       "      <td>2.000000</td>\n",
       "    </tr>\n",
       "    <tr>\n",
       "      <th>max</th>\n",
       "      <td>1.000000</td>\n",
       "      <td>1.000000</td>\n",
       "      <td>7.000000</td>\n",
       "      <td>310.000000</td>\n",
       "      <td>10.000000</td>\n",
       "      <td>1.000000</td>\n",
       "      <td>1.000000</td>\n",
       "      <td>1.000000</td>\n",
       "      <td>9.000000</td>\n",
       "      <td>2.000000</td>\n",
       "    </tr>\n",
       "  </tbody>\n",
       "</table>\n",
       "</div>"
      ],
      "text/plain": [
       "       satisfactoryLevel  lastEvaluation  numberOfProjects  avgMonthlyHours  \\\n",
       "count       11991.000000    11991.000000      11991.000000     11991.000000   \n",
       "mean            0.629658        0.716683          3.802852       200.473522   \n",
       "std             0.241070        0.168343          1.163238        48.727813   \n",
       "min             0.090000        0.360000          2.000000        96.000000   \n",
       "25%             0.480000        0.570000          3.000000       157.000000   \n",
       "50%             0.660000        0.720000          4.000000       200.000000   \n",
       "75%             0.820000        0.860000          5.000000       243.000000   \n",
       "max             1.000000        1.000000          7.000000       310.000000   \n",
       "\n",
       "       timeSpent_company  workAccident          left  promotionInLast5years  \\\n",
       "count       11991.000000  11991.000000  11991.000000           11991.000000   \n",
       "mean            3.364857      0.154282      0.166041               0.016929   \n",
       "std             1.330240      0.361234      0.372133               0.129012   \n",
       "min             2.000000      0.000000      0.000000               0.000000   \n",
       "25%             3.000000      0.000000      0.000000               0.000000   \n",
       "50%             3.000000      0.000000      0.000000               0.000000   \n",
       "75%             4.000000      0.000000      0.000000               0.000000   \n",
       "max            10.000000      1.000000      1.000000               1.000000   \n",
       "\n",
       "               dept        salary  \n",
       "count  11991.000000  11991.000000  \n",
       "mean       5.871153      1.356184  \n",
       "std        2.899022      0.628071  \n",
       "min        0.000000      0.000000  \n",
       "25%        4.000000      1.000000  \n",
       "50%        7.000000      1.000000  \n",
       "75%        8.000000      2.000000  \n",
       "max        9.000000      2.000000  "
      ]
     },
     "execution_count": 54,
     "metadata": {},
     "output_type": "execute_result"
    }
   ],
   "source": [
    "df.describe()"
   ]
  },
  {
   "cell_type": "code",
   "execution_count": 60,
   "id": "3af53fff",
   "metadata": {},
   "outputs": [],
   "source": [
    "#Random Experiment\n",
    "emp=df[(df.satisfactoryLevel>=0)&(df.satisfactoryLevel<=0.50)&(df.timeSpent_company==2)&(df.avgMonthlyHours>=130)&(df.avgMonthlyHours<=200)]"
   ]
  },
  {
   "cell_type": "code",
   "execution_count": 61,
   "id": "9aa2d710",
   "metadata": {},
   "outputs": [
    {
     "data": {
      "text/html": [
       "<div>\n",
       "<style scoped>\n",
       "    .dataframe tbody tr th:only-of-type {\n",
       "        vertical-align: middle;\n",
       "    }\n",
       "\n",
       "    .dataframe tbody tr th {\n",
       "        vertical-align: top;\n",
       "    }\n",
       "\n",
       "    .dataframe thead th {\n",
       "        text-align: right;\n",
       "    }\n",
       "</style>\n",
       "<table border=\"1\" class=\"dataframe\">\n",
       "  <thead>\n",
       "    <tr style=\"text-align: right;\">\n",
       "      <th></th>\n",
       "      <th>satisfactoryLevel</th>\n",
       "      <th>lastEvaluation</th>\n",
       "      <th>numberOfProjects</th>\n",
       "      <th>avgMonthlyHours</th>\n",
       "      <th>timeSpent_company</th>\n",
       "      <th>workAccident</th>\n",
       "      <th>left</th>\n",
       "      <th>promotionInLast5years</th>\n",
       "      <th>dept</th>\n",
       "      <th>salary</th>\n",
       "    </tr>\n",
       "  </thead>\n",
       "  <tbody>\n",
       "    <tr>\n",
       "      <th>35</th>\n",
       "      <td>0.13</td>\n",
       "      <td>0.78</td>\n",
       "      <td>6</td>\n",
       "      <td>152</td>\n",
       "      <td>2</td>\n",
       "      <td>0</td>\n",
       "      <td>1</td>\n",
       "      <td>0</td>\n",
       "      <td>8</td>\n",
       "      <td>1</td>\n",
       "    </tr>\n",
       "    <tr>\n",
       "      <th>379</th>\n",
       "      <td>0.48</td>\n",
       "      <td>0.78</td>\n",
       "      <td>2</td>\n",
       "      <td>198</td>\n",
       "      <td>2</td>\n",
       "      <td>0</td>\n",
       "      <td>1</td>\n",
       "      <td>0</td>\n",
       "      <td>9</td>\n",
       "      <td>2</td>\n",
       "    </tr>\n",
       "    <tr>\n",
       "      <th>413</th>\n",
       "      <td>0.34</td>\n",
       "      <td>0.67</td>\n",
       "      <td>4</td>\n",
       "      <td>141</td>\n",
       "      <td>2</td>\n",
       "      <td>0</td>\n",
       "      <td>1</td>\n",
       "      <td>0</td>\n",
       "      <td>7</td>\n",
       "      <td>1</td>\n",
       "    </tr>\n",
       "    <tr>\n",
       "      <th>1239</th>\n",
       "      <td>0.14</td>\n",
       "      <td>0.47</td>\n",
       "      <td>4</td>\n",
       "      <td>175</td>\n",
       "      <td>2</td>\n",
       "      <td>0</td>\n",
       "      <td>1</td>\n",
       "      <td>0</td>\n",
       "      <td>1</td>\n",
       "      <td>2</td>\n",
       "    </tr>\n",
       "    <tr>\n",
       "      <th>1426</th>\n",
       "      <td>0.19</td>\n",
       "      <td>0.58</td>\n",
       "      <td>5</td>\n",
       "      <td>182</td>\n",
       "      <td>2</td>\n",
       "      <td>0</td>\n",
       "      <td>0</td>\n",
       "      <td>0</td>\n",
       "      <td>9</td>\n",
       "      <td>2</td>\n",
       "    </tr>\n",
       "  </tbody>\n",
       "</table>\n",
       "</div>"
      ],
      "text/plain": [
       "      satisfactoryLevel  lastEvaluation  numberOfProjects  avgMonthlyHours  \\\n",
       "35                 0.13            0.78                 6              152   \n",
       "379                0.48            0.78                 2              198   \n",
       "413                0.34            0.67                 4              141   \n",
       "1239               0.14            0.47                 4              175   \n",
       "1426               0.19            0.58                 5              182   \n",
       "\n",
       "      timeSpent_company  workAccident  left  promotionInLast5years  dept  \\\n",
       "35                    2             0     1                      0     8   \n",
       "379                   2             0     1                      0     9   \n",
       "413                   2             0     1                      0     7   \n",
       "1239                  2             0     1                      0     1   \n",
       "1426                  2             0     0                      0     9   \n",
       "\n",
       "      salary  \n",
       "35         1  \n",
       "379        2  \n",
       "413        1  \n",
       "1239       2  \n",
       "1426       2  "
      ]
     },
     "execution_count": 61,
     "metadata": {},
     "output_type": "execute_result"
    }
   ],
   "source": [
    "emp.head()"
   ]
  },
  {
   "cell_type": "code",
   "execution_count": 62,
   "id": "40a8e72d",
   "metadata": {},
   "outputs": [
    {
     "data": {
      "text/plain": [
       "(217, 10)"
      ]
     },
     "execution_count": 62,
     "metadata": {},
     "output_type": "execute_result"
    }
   ],
   "source": [
    "emp.shape"
   ]
  },
  {
   "cell_type": "code",
   "execution_count": 63,
   "id": "0821ee87",
   "metadata": {},
   "outputs": [
    {
     "data": {
      "text/plain": [
       "0    211\n",
       "1      6\n",
       "Name: left, dtype: int64"
      ]
     },
     "execution_count": 63,
     "metadata": {},
     "output_type": "execute_result"
    }
   ],
   "source": [
    "emp['left'].value_counts()"
   ]
  },
  {
   "cell_type": "code",
   "execution_count": 64,
   "id": "a28e9c83",
   "metadata": {},
   "outputs": [
    {
     "data": {
      "text/plain": [
       "array([1, 0], dtype=int64)"
      ]
     },
     "execution_count": 64,
     "metadata": {},
     "output_type": "execute_result"
    }
   ],
   "source": [
    "emp['left'].unique()"
   ]
  },
  {
   "cell_type": "code",
   "execution_count": 65,
   "id": "02d99169",
   "metadata": {},
   "outputs": [
    {
     "data": {
      "text/plain": [
       "2"
      ]
     },
     "execution_count": 65,
     "metadata": {},
     "output_type": "execute_result"
    }
   ],
   "source": [
    "emp['left'].nunique()"
   ]
  },
  {
   "cell_type": "code",
   "execution_count": 66,
   "id": "eea63f4c",
   "metadata": {},
   "outputs": [
    {
     "data": {
      "text/plain": [
       "1    114\n",
       "2     89\n",
       "0     14\n",
       "Name: salary, dtype: int64"
      ]
     },
     "execution_count": 66,
     "metadata": {},
     "output_type": "execute_result"
    }
   ],
   "source": [
    "emp['salary'].value_counts()"
   ]
  },
  {
   "cell_type": "code",
   "execution_count": 67,
   "id": "f21fa938",
   "metadata": {},
   "outputs": [
    {
     "data": {
      "text/html": [
       "<div>\n",
       "<style scoped>\n",
       "    .dataframe tbody tr th:only-of-type {\n",
       "        vertical-align: middle;\n",
       "    }\n",
       "\n",
       "    .dataframe tbody tr th {\n",
       "        vertical-align: top;\n",
       "    }\n",
       "\n",
       "    .dataframe thead th {\n",
       "        text-align: right;\n",
       "    }\n",
       "</style>\n",
       "<table border=\"1\" class=\"dataframe\">\n",
       "  <thead>\n",
       "    <tr style=\"text-align: right;\">\n",
       "      <th></th>\n",
       "      <th>satisfactoryLevel</th>\n",
       "      <th>lastEvaluation</th>\n",
       "      <th>numberOfProjects</th>\n",
       "      <th>avgMonthlyHours</th>\n",
       "      <th>timeSpent_company</th>\n",
       "      <th>workAccident</th>\n",
       "      <th>left</th>\n",
       "      <th>promotionInLast5years</th>\n",
       "      <th>dept</th>\n",
       "      <th>salary</th>\n",
       "    </tr>\n",
       "  </thead>\n",
       "  <tbody>\n",
       "    <tr>\n",
       "      <th>satisfactoryLevel</th>\n",
       "      <td>1.000000</td>\n",
       "      <td>0.021638</td>\n",
       "      <td>-0.217151</td>\n",
       "      <td>0.024962</td>\n",
       "      <td>NaN</td>\n",
       "      <td>0.025751</td>\n",
       "      <td>-0.215200</td>\n",
       "      <td>0.047443</td>\n",
       "      <td>-0.113350</td>\n",
       "      <td>0.030787</td>\n",
       "    </tr>\n",
       "    <tr>\n",
       "      <th>lastEvaluation</th>\n",
       "      <td>0.021638</td>\n",
       "      <td>1.000000</td>\n",
       "      <td>0.094969</td>\n",
       "      <td>0.001310</td>\n",
       "      <td>NaN</td>\n",
       "      <td>-0.002001</td>\n",
       "      <td>0.122231</td>\n",
       "      <td>-0.089724</td>\n",
       "      <td>0.003506</td>\n",
       "      <td>0.007181</td>\n",
       "    </tr>\n",
       "    <tr>\n",
       "      <th>numberOfProjects</th>\n",
       "      <td>-0.217151</td>\n",
       "      <td>0.094969</td>\n",
       "      <td>1.000000</td>\n",
       "      <td>-0.047254</td>\n",
       "      <td>NaN</td>\n",
       "      <td>-0.064793</td>\n",
       "      <td>0.115917</td>\n",
       "      <td>-0.020698</td>\n",
       "      <td>0.050600</td>\n",
       "      <td>-0.153083</td>\n",
       "    </tr>\n",
       "    <tr>\n",
       "      <th>avgMonthlyHours</th>\n",
       "      <td>0.024962</td>\n",
       "      <td>0.001310</td>\n",
       "      <td>-0.047254</td>\n",
       "      <td>1.000000</td>\n",
       "      <td>NaN</td>\n",
       "      <td>-0.053849</td>\n",
       "      <td>-0.043436</td>\n",
       "      <td>0.043453</td>\n",
       "      <td>0.032331</td>\n",
       "      <td>-0.002823</td>\n",
       "    </tr>\n",
       "    <tr>\n",
       "      <th>timeSpent_company</th>\n",
       "      <td>NaN</td>\n",
       "      <td>NaN</td>\n",
       "      <td>NaN</td>\n",
       "      <td>NaN</td>\n",
       "      <td>NaN</td>\n",
       "      <td>NaN</td>\n",
       "      <td>NaN</td>\n",
       "      <td>NaN</td>\n",
       "      <td>NaN</td>\n",
       "      <td>NaN</td>\n",
       "    </tr>\n",
       "    <tr>\n",
       "      <th>workAccident</th>\n",
       "      <td>0.025751</td>\n",
       "      <td>-0.002001</td>\n",
       "      <td>-0.064793</td>\n",
       "      <td>-0.053849</td>\n",
       "      <td>NaN</td>\n",
       "      <td>1.000000</td>\n",
       "      <td>-0.072686</td>\n",
       "      <td>0.018301</td>\n",
       "      <td>0.118904</td>\n",
       "      <td>0.069108</td>\n",
       "    </tr>\n",
       "    <tr>\n",
       "      <th>left</th>\n",
       "      <td>-0.215200</td>\n",
       "      <td>0.122231</td>\n",
       "      <td>0.115917</td>\n",
       "      <td>-0.043436</td>\n",
       "      <td>NaN</td>\n",
       "      <td>-0.072686</td>\n",
       "      <td>1.000000</td>\n",
       "      <td>-0.025897</td>\n",
       "      <td>0.053947</td>\n",
       "      <td>-0.003477</td>\n",
       "    </tr>\n",
       "    <tr>\n",
       "      <th>promotionInLast5years</th>\n",
       "      <td>0.047443</td>\n",
       "      <td>-0.089724</td>\n",
       "      <td>-0.020698</td>\n",
       "      <td>0.043453</td>\n",
       "      <td>NaN</td>\n",
       "      <td>0.018301</td>\n",
       "      <td>-0.025897</td>\n",
       "      <td>1.000000</td>\n",
       "      <td>-0.069426</td>\n",
       "      <td>0.065548</td>\n",
       "    </tr>\n",
       "    <tr>\n",
       "      <th>dept</th>\n",
       "      <td>-0.113350</td>\n",
       "      <td>0.003506</td>\n",
       "      <td>0.050600</td>\n",
       "      <td>0.032331</td>\n",
       "      <td>NaN</td>\n",
       "      <td>0.118904</td>\n",
       "      <td>0.053947</td>\n",
       "      <td>-0.069426</td>\n",
       "      <td>1.000000</td>\n",
       "      <td>0.069257</td>\n",
       "    </tr>\n",
       "    <tr>\n",
       "      <th>salary</th>\n",
       "      <td>0.030787</td>\n",
       "      <td>0.007181</td>\n",
       "      <td>-0.153083</td>\n",
       "      <td>-0.002823</td>\n",
       "      <td>NaN</td>\n",
       "      <td>0.069108</td>\n",
       "      <td>-0.003477</td>\n",
       "      <td>0.065548</td>\n",
       "      <td>0.069257</td>\n",
       "      <td>1.000000</td>\n",
       "    </tr>\n",
       "  </tbody>\n",
       "</table>\n",
       "</div>"
      ],
      "text/plain": [
       "                       satisfactoryLevel  lastEvaluation  numberOfProjects  \\\n",
       "satisfactoryLevel               1.000000        0.021638         -0.217151   \n",
       "lastEvaluation                  0.021638        1.000000          0.094969   \n",
       "numberOfProjects               -0.217151        0.094969          1.000000   \n",
       "avgMonthlyHours                 0.024962        0.001310         -0.047254   \n",
       "timeSpent_company                    NaN             NaN               NaN   \n",
       "workAccident                    0.025751       -0.002001         -0.064793   \n",
       "left                           -0.215200        0.122231          0.115917   \n",
       "promotionInLast5years           0.047443       -0.089724         -0.020698   \n",
       "dept                           -0.113350        0.003506          0.050600   \n",
       "salary                          0.030787        0.007181         -0.153083   \n",
       "\n",
       "                       avgMonthlyHours  timeSpent_company  workAccident  \\\n",
       "satisfactoryLevel             0.024962                NaN      0.025751   \n",
       "lastEvaluation                0.001310                NaN     -0.002001   \n",
       "numberOfProjects             -0.047254                NaN     -0.064793   \n",
       "avgMonthlyHours               1.000000                NaN     -0.053849   \n",
       "timeSpent_company                  NaN                NaN           NaN   \n",
       "workAccident                 -0.053849                NaN      1.000000   \n",
       "left                         -0.043436                NaN     -0.072686   \n",
       "promotionInLast5years         0.043453                NaN      0.018301   \n",
       "dept                          0.032331                NaN      0.118904   \n",
       "salary                       -0.002823                NaN      0.069108   \n",
       "\n",
       "                           left  promotionInLast5years      dept    salary  \n",
       "satisfactoryLevel     -0.215200               0.047443 -0.113350  0.030787  \n",
       "lastEvaluation         0.122231              -0.089724  0.003506  0.007181  \n",
       "numberOfProjects       0.115917              -0.020698  0.050600 -0.153083  \n",
       "avgMonthlyHours       -0.043436               0.043453  0.032331 -0.002823  \n",
       "timeSpent_company           NaN                    NaN       NaN       NaN  \n",
       "workAccident          -0.072686               0.018301  0.118904  0.069108  \n",
       "left                   1.000000              -0.025897  0.053947 -0.003477  \n",
       "promotionInLast5years -0.025897               1.000000 -0.069426  0.065548  \n",
       "dept                   0.053947              -0.069426  1.000000  0.069257  \n",
       "salary                -0.003477               0.065548  0.069257  1.000000  "
      ]
     },
     "execution_count": 67,
     "metadata": {},
     "output_type": "execute_result"
    }
   ],
   "source": [
    "emp.corr()"
   ]
  },
  {
   "cell_type": "code",
   "execution_count": 68,
   "id": "b59e4df0",
   "metadata": {},
   "outputs": [
    {
     "data": {
      "text/plain": [
       "167.2258064516129"
      ]
     },
     "execution_count": 68,
     "metadata": {},
     "output_type": "execute_result"
    }
   ],
   "source": [
    "emp['avgMonthlyHours'].mean()"
   ]
  },
  {
   "cell_type": "markdown",
   "id": "e4393b5d",
   "metadata": {},
   "source": [
    "T-test: One sample t-test"
   ]
  },
  {
   "cell_type": "markdown",
   "id": "5f7f5bc0",
   "metadata": {},
   "source": [
    "The average monthly hours of a employeee having 2 years experience is 167. Is it the same for the employees having more than 2 years of experience?"
   ]
  },
  {
   "cell_type": "markdown",
   "id": "cf9b99b7",
   "metadata": {},
   "source": [
    "Condition: Satisfactory level of a employee is from 0-0.05 and avgMonthlyHours is from 130-200"
   ]
  },
  {
   "cell_type": "code",
   "execution_count": 71,
   "id": "47b02e13",
   "metadata": {},
   "outputs": [],
   "source": [
    "employee=df[(df.satisfactoryLevel>=0)&(df.satisfactoryLevel<=0.50)&(df.timeSpent_company>=3)&(df.avgMonthlyHours>=130)&(df.avgMonthlyHours<=200)]"
   ]
  },
  {
   "cell_type": "code",
   "execution_count": 72,
   "id": "1ea9ba14",
   "metadata": {
    "scrolled": true
   },
   "outputs": [
    {
     "data": {
      "text/html": [
       "<div>\n",
       "<style scoped>\n",
       "    .dataframe tbody tr th:only-of-type {\n",
       "        vertical-align: middle;\n",
       "    }\n",
       "\n",
       "    .dataframe tbody tr th {\n",
       "        vertical-align: top;\n",
       "    }\n",
       "\n",
       "    .dataframe thead th {\n",
       "        text-align: right;\n",
       "    }\n",
       "</style>\n",
       "<table border=\"1\" class=\"dataframe\">\n",
       "  <thead>\n",
       "    <tr style=\"text-align: right;\">\n",
       "      <th></th>\n",
       "      <th>satisfactoryLevel</th>\n",
       "      <th>lastEvaluation</th>\n",
       "      <th>numberOfProjects</th>\n",
       "      <th>avgMonthlyHours</th>\n",
       "      <th>timeSpent_company</th>\n",
       "      <th>workAccident</th>\n",
       "      <th>left</th>\n",
       "      <th>promotionInLast5years</th>\n",
       "      <th>dept</th>\n",
       "      <th>salary</th>\n",
       "    </tr>\n",
       "  </thead>\n",
       "  <tbody>\n",
       "    <tr>\n",
       "      <th>0</th>\n",
       "      <td>0.38</td>\n",
       "      <td>0.53</td>\n",
       "      <td>2</td>\n",
       "      <td>157</td>\n",
       "      <td>3</td>\n",
       "      <td>0</td>\n",
       "      <td>1</td>\n",
       "      <td>0</td>\n",
       "      <td>7</td>\n",
       "      <td>1</td>\n",
       "    </tr>\n",
       "    <tr>\n",
       "      <th>3</th>\n",
       "      <td>0.37</td>\n",
       "      <td>0.52</td>\n",
       "      <td>2</td>\n",
       "      <td>159</td>\n",
       "      <td>3</td>\n",
       "      <td>0</td>\n",
       "      <td>1</td>\n",
       "      <td>0</td>\n",
       "      <td>7</td>\n",
       "      <td>1</td>\n",
       "    </tr>\n",
       "    <tr>\n",
       "      <th>4</th>\n",
       "      <td>0.41</td>\n",
       "      <td>0.50</td>\n",
       "      <td>2</td>\n",
       "      <td>153</td>\n",
       "      <td>3</td>\n",
       "      <td>0</td>\n",
       "      <td>1</td>\n",
       "      <td>0</td>\n",
       "      <td>7</td>\n",
       "      <td>1</td>\n",
       "    </tr>\n",
       "    <tr>\n",
       "      <th>7</th>\n",
       "      <td>0.42</td>\n",
       "      <td>0.53</td>\n",
       "      <td>2</td>\n",
       "      <td>142</td>\n",
       "      <td>3</td>\n",
       "      <td>0</td>\n",
       "      <td>1</td>\n",
       "      <td>0</td>\n",
       "      <td>7</td>\n",
       "      <td>1</td>\n",
       "    </tr>\n",
       "    <tr>\n",
       "      <th>8</th>\n",
       "      <td>0.45</td>\n",
       "      <td>0.54</td>\n",
       "      <td>2</td>\n",
       "      <td>135</td>\n",
       "      <td>3</td>\n",
       "      <td>0</td>\n",
       "      <td>1</td>\n",
       "      <td>0</td>\n",
       "      <td>7</td>\n",
       "      <td>1</td>\n",
       "    </tr>\n",
       "  </tbody>\n",
       "</table>\n",
       "</div>"
      ],
      "text/plain": [
       "   satisfactoryLevel  lastEvaluation  numberOfProjects  avgMonthlyHours  \\\n",
       "0               0.38            0.53                 2              157   \n",
       "3               0.37            0.52                 2              159   \n",
       "4               0.41            0.50                 2              153   \n",
       "7               0.42            0.53                 2              142   \n",
       "8               0.45            0.54                 2              135   \n",
       "\n",
       "   timeSpent_company  workAccident  left  promotionInLast5years  dept  salary  \n",
       "0                  3             0     1                      0     7       1  \n",
       "3                  3             0     1                      0     7       1  \n",
       "4                  3             0     1                      0     7       1  \n",
       "7                  3             0     1                      0     7       1  \n",
       "8                  3             0     1                      0     7       1  "
      ]
     },
     "execution_count": 72,
     "metadata": {},
     "output_type": "execute_result"
    }
   ],
   "source": [
    "employee.head()"
   ]
  },
  {
   "cell_type": "code",
   "execution_count": 74,
   "id": "df2b6ec8",
   "metadata": {},
   "outputs": [
    {
     "data": {
      "text/plain": [
       "(1462, 10)"
      ]
     },
     "execution_count": 74,
     "metadata": {},
     "output_type": "execute_result"
    }
   ],
   "source": [
    "employee.shape"
   ]
  },
  {
   "cell_type": "code",
   "execution_count": 75,
   "id": "ab3900ad",
   "metadata": {},
   "outputs": [],
   "source": [
    "#h0= avg monthly hours of a employee having 2 yrs exp and the employee more than that is same i.e 167 hrs\n",
    "#ha= avg monthly hours of a employee having 2 yrs exp does not have same avg monthly hours with more than 167 hrs"
   ]
  },
  {
   "cell_type": "code",
   "execution_count": 76,
   "id": "a9272164",
   "metadata": {},
   "outputs": [],
   "source": [
    "#Selecting a random sample\n",
    "sample_size=100\n",
    "sample1= employee.sample(sample_size,random_state=0)"
   ]
  },
  {
   "cell_type": "code",
   "execution_count": 78,
   "id": "17297fc6",
   "metadata": {},
   "outputs": [
    {
     "data": {
      "text/html": [
       "<div>\n",
       "<style scoped>\n",
       "    .dataframe tbody tr th:only-of-type {\n",
       "        vertical-align: middle;\n",
       "    }\n",
       "\n",
       "    .dataframe tbody tr th {\n",
       "        vertical-align: top;\n",
       "    }\n",
       "\n",
       "    .dataframe thead th {\n",
       "        text-align: right;\n",
       "    }\n",
       "</style>\n",
       "<table border=\"1\" class=\"dataframe\">\n",
       "  <thead>\n",
       "    <tr style=\"text-align: right;\">\n",
       "      <th></th>\n",
       "      <th>satisfactoryLevel</th>\n",
       "      <th>lastEvaluation</th>\n",
       "      <th>numberOfProjects</th>\n",
       "      <th>avgMonthlyHours</th>\n",
       "      <th>timeSpent_company</th>\n",
       "      <th>workAccident</th>\n",
       "      <th>left</th>\n",
       "      <th>promotionInLast5years</th>\n",
       "      <th>dept</th>\n",
       "      <th>salary</th>\n",
       "    </tr>\n",
       "  </thead>\n",
       "  <tbody>\n",
       "    <tr>\n",
       "      <th>1685</th>\n",
       "      <td>0.17</td>\n",
       "      <td>0.76</td>\n",
       "      <td>4</td>\n",
       "      <td>171</td>\n",
       "      <td>5</td>\n",
       "      <td>0</td>\n",
       "      <td>0</td>\n",
       "      <td>0</td>\n",
       "      <td>6</td>\n",
       "      <td>1</td>\n",
       "    </tr>\n",
       "    <tr>\n",
       "      <th>11633</th>\n",
       "      <td>0.46</td>\n",
       "      <td>0.46</td>\n",
       "      <td>2</td>\n",
       "      <td>145</td>\n",
       "      <td>3</td>\n",
       "      <td>0</td>\n",
       "      <td>1</td>\n",
       "      <td>0</td>\n",
       "      <td>0</td>\n",
       "      <td>0</td>\n",
       "    </tr>\n",
       "    <tr>\n",
       "      <th>1250</th>\n",
       "      <td>0.45</td>\n",
       "      <td>0.53</td>\n",
       "      <td>2</td>\n",
       "      <td>159</td>\n",
       "      <td>3</td>\n",
       "      <td>0</td>\n",
       "      <td>1</td>\n",
       "      <td>0</td>\n",
       "      <td>7</td>\n",
       "      <td>1</td>\n",
       "    </tr>\n",
       "    <tr>\n",
       "      <th>774</th>\n",
       "      <td>0.45</td>\n",
       "      <td>0.49</td>\n",
       "      <td>2</td>\n",
       "      <td>144</td>\n",
       "      <td>3</td>\n",
       "      <td>0</td>\n",
       "      <td>1</td>\n",
       "      <td>0</td>\n",
       "      <td>2</td>\n",
       "      <td>1</td>\n",
       "    </tr>\n",
       "    <tr>\n",
       "      <th>3506</th>\n",
       "      <td>0.50</td>\n",
       "      <td>0.38</td>\n",
       "      <td>5</td>\n",
       "      <td>175</td>\n",
       "      <td>4</td>\n",
       "      <td>0</td>\n",
       "      <td>0</td>\n",
       "      <td>0</td>\n",
       "      <td>9</td>\n",
       "      <td>0</td>\n",
       "    </tr>\n",
       "    <tr>\n",
       "      <th>...</th>\n",
       "      <td>...</td>\n",
       "      <td>...</td>\n",
       "      <td>...</td>\n",
       "      <td>...</td>\n",
       "      <td>...</td>\n",
       "      <td>...</td>\n",
       "      <td>...</td>\n",
       "      <td>...</td>\n",
       "      <td>...</td>\n",
       "      <td>...</td>\n",
       "    </tr>\n",
       "    <tr>\n",
       "      <th>27</th>\n",
       "      <td>0.38</td>\n",
       "      <td>0.46</td>\n",
       "      <td>2</td>\n",
       "      <td>137</td>\n",
       "      <td>3</td>\n",
       "      <td>0</td>\n",
       "      <td>1</td>\n",
       "      <td>0</td>\n",
       "      <td>9</td>\n",
       "      <td>1</td>\n",
       "    </tr>\n",
       "    <tr>\n",
       "      <th>6314</th>\n",
       "      <td>0.37</td>\n",
       "      <td>0.72</td>\n",
       "      <td>2</td>\n",
       "      <td>163</td>\n",
       "      <td>3</td>\n",
       "      <td>0</td>\n",
       "      <td>0</td>\n",
       "      <td>0</td>\n",
       "      <td>7</td>\n",
       "      <td>1</td>\n",
       "    </tr>\n",
       "    <tr>\n",
       "      <th>2083</th>\n",
       "      <td>0.45</td>\n",
       "      <td>0.39</td>\n",
       "      <td>2</td>\n",
       "      <td>167</td>\n",
       "      <td>3</td>\n",
       "      <td>0</td>\n",
       "      <td>0</td>\n",
       "      <td>0</td>\n",
       "      <td>8</td>\n",
       "      <td>2</td>\n",
       "    </tr>\n",
       "    <tr>\n",
       "      <th>5162</th>\n",
       "      <td>0.12</td>\n",
       "      <td>0.39</td>\n",
       "      <td>5</td>\n",
       "      <td>161</td>\n",
       "      <td>4</td>\n",
       "      <td>0</td>\n",
       "      <td>0</td>\n",
       "      <td>0</td>\n",
       "      <td>0</td>\n",
       "      <td>1</td>\n",
       "    </tr>\n",
       "    <tr>\n",
       "      <th>1204</th>\n",
       "      <td>0.43</td>\n",
       "      <td>0.53</td>\n",
       "      <td>2</td>\n",
       "      <td>136</td>\n",
       "      <td>3</td>\n",
       "      <td>0</td>\n",
       "      <td>1</td>\n",
       "      <td>0</td>\n",
       "      <td>7</td>\n",
       "      <td>2</td>\n",
       "    </tr>\n",
       "  </tbody>\n",
       "</table>\n",
       "<p>100 rows × 10 columns</p>\n",
       "</div>"
      ],
      "text/plain": [
       "       satisfactoryLevel  lastEvaluation  numberOfProjects  avgMonthlyHours  \\\n",
       "1685                0.17            0.76                 4              171   \n",
       "11633               0.46            0.46                 2              145   \n",
       "1250                0.45            0.53                 2              159   \n",
       "774                 0.45            0.49                 2              144   \n",
       "3506                0.50            0.38                 5              175   \n",
       "...                  ...             ...               ...              ...   \n",
       "27                  0.38            0.46                 2              137   \n",
       "6314                0.37            0.72                 2              163   \n",
       "2083                0.45            0.39                 2              167   \n",
       "5162                0.12            0.39                 5              161   \n",
       "1204                0.43            0.53                 2              136   \n",
       "\n",
       "       timeSpent_company  workAccident  left  promotionInLast5years  dept  \\\n",
       "1685                   5             0     0                      0     6   \n",
       "11633                  3             0     1                      0     0   \n",
       "1250                   3             0     1                      0     7   \n",
       "774                    3             0     1                      0     2   \n",
       "3506                   4             0     0                      0     9   \n",
       "...                  ...           ...   ...                    ...   ...   \n",
       "27                     3             0     1                      0     9   \n",
       "6314                   3             0     0                      0     7   \n",
       "2083                   3             0     0                      0     8   \n",
       "5162                   4             0     0                      0     0   \n",
       "1204                   3             0     1                      0     7   \n",
       "\n",
       "       salary  \n",
       "1685        1  \n",
       "11633       0  \n",
       "1250        1  \n",
       "774         1  \n",
       "3506        0  \n",
       "...       ...  \n",
       "27          1  \n",
       "6314        1  \n",
       "2083        2  \n",
       "5162        1  \n",
       "1204        2  \n",
       "\n",
       "[100 rows x 10 columns]"
      ]
     },
     "execution_count": 78,
     "metadata": {},
     "output_type": "execute_result"
    }
   ],
   "source": [
    "sample1"
   ]
  },
  {
   "cell_type": "code",
   "execution_count": 79,
   "id": "23a317ac",
   "metadata": {},
   "outputs": [
    {
     "data": {
      "text/html": [
       "<div>\n",
       "<style scoped>\n",
       "    .dataframe tbody tr th:only-of-type {\n",
       "        vertical-align: middle;\n",
       "    }\n",
       "\n",
       "    .dataframe tbody tr th {\n",
       "        vertical-align: top;\n",
       "    }\n",
       "\n",
       "    .dataframe thead th {\n",
       "        text-align: right;\n",
       "    }\n",
       "</style>\n",
       "<table border=\"1\" class=\"dataframe\">\n",
       "  <thead>\n",
       "    <tr style=\"text-align: right;\">\n",
       "      <th></th>\n",
       "      <th>satisfactoryLevel</th>\n",
       "      <th>lastEvaluation</th>\n",
       "      <th>numberOfProjects</th>\n",
       "      <th>avgMonthlyHours</th>\n",
       "      <th>timeSpent_company</th>\n",
       "      <th>workAccident</th>\n",
       "      <th>left</th>\n",
       "      <th>promotionInLast5years</th>\n",
       "      <th>dept</th>\n",
       "      <th>salary</th>\n",
       "    </tr>\n",
       "  </thead>\n",
       "  <tbody>\n",
       "    <tr>\n",
       "      <th>count</th>\n",
       "      <td>1462.000000</td>\n",
       "      <td>1462.000000</td>\n",
       "      <td>1462.000000</td>\n",
       "      <td>1462.000000</td>\n",
       "      <td>1462.000000</td>\n",
       "      <td>1462.000000</td>\n",
       "      <td>1462.000000</td>\n",
       "      <td>1462.000000</td>\n",
       "      <td>1462.000000</td>\n",
       "      <td>1462.000000</td>\n",
       "    </tr>\n",
       "    <tr>\n",
       "      <th>mean</th>\n",
       "      <td>0.366313</td>\n",
       "      <td>0.596464</td>\n",
       "      <td>2.956224</td>\n",
       "      <td>155.547880</td>\n",
       "      <td>3.584815</td>\n",
       "      <td>0.116279</td>\n",
       "      <td>0.526676</td>\n",
       "      <td>0.013680</td>\n",
       "      <td>5.770178</td>\n",
       "      <td>1.344733</td>\n",
       "    </tr>\n",
       "    <tr>\n",
       "      <th>std</th>\n",
       "      <td>0.101213</td>\n",
       "      <td>0.150941</td>\n",
       "      <td>1.307379</td>\n",
       "      <td>18.424461</td>\n",
       "      <td>1.154399</td>\n",
       "      <td>0.320669</td>\n",
       "      <td>0.499459</td>\n",
       "      <td>0.116198</td>\n",
       "      <td>2.889569</td>\n",
       "      <td>0.590974</td>\n",
       "    </tr>\n",
       "    <tr>\n",
       "      <th>min</th>\n",
       "      <td>0.100000</td>\n",
       "      <td>0.360000</td>\n",
       "      <td>2.000000</td>\n",
       "      <td>130.000000</td>\n",
       "      <td>3.000000</td>\n",
       "      <td>0.000000</td>\n",
       "      <td>0.000000</td>\n",
       "      <td>0.000000</td>\n",
       "      <td>0.000000</td>\n",
       "      <td>0.000000</td>\n",
       "    </tr>\n",
       "    <tr>\n",
       "      <th>25%</th>\n",
       "      <td>0.320000</td>\n",
       "      <td>0.490000</td>\n",
       "      <td>2.000000</td>\n",
       "      <td>141.000000</td>\n",
       "      <td>3.000000</td>\n",
       "      <td>0.000000</td>\n",
       "      <td>0.000000</td>\n",
       "      <td>0.000000</td>\n",
       "      <td>3.000000</td>\n",
       "      <td>1.000000</td>\n",
       "    </tr>\n",
       "    <tr>\n",
       "      <th>50%</th>\n",
       "      <td>0.390000</td>\n",
       "      <td>0.540000</td>\n",
       "      <td>2.000000</td>\n",
       "      <td>152.000000</td>\n",
       "      <td>3.000000</td>\n",
       "      <td>0.000000</td>\n",
       "      <td>1.000000</td>\n",
       "      <td>0.000000</td>\n",
       "      <td>7.000000</td>\n",
       "      <td>1.000000</td>\n",
       "    </tr>\n",
       "    <tr>\n",
       "      <th>75%</th>\n",
       "      <td>0.440000</td>\n",
       "      <td>0.670000</td>\n",
       "      <td>4.000000</td>\n",
       "      <td>166.000000</td>\n",
       "      <td>4.000000</td>\n",
       "      <td>0.000000</td>\n",
       "      <td>1.000000</td>\n",
       "      <td>0.000000</td>\n",
       "      <td>8.000000</td>\n",
       "      <td>2.000000</td>\n",
       "    </tr>\n",
       "    <tr>\n",
       "      <th>max</th>\n",
       "      <td>0.500000</td>\n",
       "      <td>1.000000</td>\n",
       "      <td>7.000000</td>\n",
       "      <td>200.000000</td>\n",
       "      <td>10.000000</td>\n",
       "      <td>1.000000</td>\n",
       "      <td>1.000000</td>\n",
       "      <td>1.000000</td>\n",
       "      <td>9.000000</td>\n",
       "      <td>2.000000</td>\n",
       "    </tr>\n",
       "  </tbody>\n",
       "</table>\n",
       "</div>"
      ],
      "text/plain": [
       "       satisfactoryLevel  lastEvaluation  numberOfProjects  avgMonthlyHours  \\\n",
       "count        1462.000000     1462.000000       1462.000000      1462.000000   \n",
       "mean            0.366313        0.596464          2.956224       155.547880   \n",
       "std             0.101213        0.150941          1.307379        18.424461   \n",
       "min             0.100000        0.360000          2.000000       130.000000   \n",
       "25%             0.320000        0.490000          2.000000       141.000000   \n",
       "50%             0.390000        0.540000          2.000000       152.000000   \n",
       "75%             0.440000        0.670000          4.000000       166.000000   \n",
       "max             0.500000        1.000000          7.000000       200.000000   \n",
       "\n",
       "       timeSpent_company  workAccident         left  promotionInLast5years  \\\n",
       "count        1462.000000   1462.000000  1462.000000            1462.000000   \n",
       "mean            3.584815      0.116279     0.526676               0.013680   \n",
       "std             1.154399      0.320669     0.499459               0.116198   \n",
       "min             3.000000      0.000000     0.000000               0.000000   \n",
       "25%             3.000000      0.000000     0.000000               0.000000   \n",
       "50%             3.000000      0.000000     1.000000               0.000000   \n",
       "75%             4.000000      0.000000     1.000000               0.000000   \n",
       "max            10.000000      1.000000     1.000000               1.000000   \n",
       "\n",
       "              dept       salary  \n",
       "count  1462.000000  1462.000000  \n",
       "mean      5.770178     1.344733  \n",
       "std       2.889569     0.590974  \n",
       "min       0.000000     0.000000  \n",
       "25%       3.000000     1.000000  \n",
       "50%       7.000000     1.000000  \n",
       "75%       8.000000     2.000000  \n",
       "max       9.000000     2.000000  "
      ]
     },
     "execution_count": 79,
     "metadata": {},
     "output_type": "execute_result"
    }
   ],
   "source": [
    "employee.describe()"
   ]
  },
  {
   "cell_type": "code",
   "execution_count": 86,
   "id": "d2613a2a",
   "metadata": {},
   "outputs": [],
   "source": [
    "#Population mean\n",
    "pos_mean=167"
   ]
  },
  {
   "cell_type": "code",
   "execution_count": 87,
   "id": "a1781030",
   "metadata": {},
   "outputs": [
    {
     "name": "stdout",
     "output_type": "stream",
     "text": [
      "154.2\n"
     ]
    }
   ],
   "source": [
    "#Sample Mean\n",
    "print(sample1['avgMonthlyHours'].mean())"
   ]
  },
  {
   "cell_type": "code",
   "execution_count": 85,
   "id": "0453cb2e",
   "metadata": {},
   "outputs": [],
   "source": [
    "from scipy.stats import ttest_1samp"
   ]
  },
  {
   "cell_type": "code",
   "execution_count": 88,
   "id": "6b754e51",
   "metadata": {},
   "outputs": [
    {
     "name": "stdout",
     "output_type": "stream",
     "text": [
      "-6.812850056008294 7.534573793907689e-10\n"
     ]
    }
   ],
   "source": [
    "statistics,pvalue=ttest_1samp(sample1['avgMonthlyHours'],pos_mean)\n",
    "print(statistics,pvalue)"
   ]
  },
  {
   "cell_type": "code",
   "execution_count": 89,
   "id": "a29ac0a1",
   "metadata": {},
   "outputs": [
    {
     "name": "stdout",
     "output_type": "stream",
     "text": [
      "1462 1461\n"
     ]
    }
   ],
   "source": [
    "#Degree of freedom\n",
    "n=len(employee['avgMonthlyHours'])\n",
    "dof=n-1\n",
    "print(n,dof)"
   ]
  },
  {
   "cell_type": "code",
   "execution_count": 90,
   "id": "cff77d9c",
   "metadata": {},
   "outputs": [],
   "source": [
    "#df=99 as the sample mean population is 100"
   ]
  },
  {
   "cell_type": "code",
   "execution_count": 91,
   "id": "216d772f",
   "metadata": {},
   "outputs": [],
   "source": [
    "alpha=0.05"
   ]
  },
  {
   "cell_type": "code",
   "execution_count": 92,
   "id": "bf81f003",
   "metadata": {},
   "outputs": [],
   "source": [
    "from scipy.stats import t"
   ]
  },
  {
   "cell_type": "code",
   "execution_count": 93,
   "id": "25e9e4f7",
   "metadata": {},
   "outputs": [
    {
     "data": {
      "text/plain": [
       "array([-1.96158904,  1.96158904])"
      ]
     },
     "execution_count": 93,
     "metadata": {},
     "output_type": "execute_result"
    }
   ],
   "source": [
    "cv=t.ppf([alpha/2,1-alpha/2],dof)\n",
    "cv"
   ]
  },
  {
   "cell_type": "code",
   "execution_count": 94,
   "id": "73bfb2fd",
   "metadata": {},
   "outputs": [],
   "source": [
    "#p value is less than 0.05\n",
    "#reject null hypothesis, avg monthly hours is not 167 hours for employees having more than 2 yrs of xp"
   ]
  },
  {
   "cell_type": "code",
   "execution_count": 95,
   "id": "e1dfc138",
   "metadata": {},
   "outputs": [],
   "source": [
    "#one sample z test for proportion"
   ]
  },
  {
   "cell_type": "markdown",
   "id": "74322792",
   "metadata": {},
   "source": [
    "The percentage of employee leaving the company is 3% having the experience of 2 years. Is it same for the employees having more than 2 yrs experience?"
   ]
  },
  {
   "cell_type": "code",
   "execution_count": 96,
   "id": "4fbbded0",
   "metadata": {},
   "outputs": [],
   "source": [
    "#h0= percentage of employee leaving the company having the exp of 2 years is same as employee having experience more than 2 years\n",
    "#ha= percentage of employee leaving the company having the exp of 2 yrs is different from the employee having more than 2 yrs experience"
   ]
  },
  {
   "cell_type": "code",
   "execution_count": 98,
   "id": "5db811b9",
   "metadata": {},
   "outputs": [],
   "source": [
    "from statsmodels.stats.proportion import proportions_ztest"
   ]
  },
  {
   "cell_type": "code",
   "execution_count": 99,
   "id": "a00d4ba2",
   "metadata": {},
   "outputs": [],
   "source": [
    "sample_size=100"
   ]
  },
  {
   "cell_type": "code",
   "execution_count": 100,
   "id": "0c8b02cc",
   "metadata": {},
   "outputs": [],
   "source": [
    "sample1=employee.sample(sample_size, random_state=0)"
   ]
  },
  {
   "cell_type": "code",
   "execution_count": 101,
   "id": "a2726de2",
   "metadata": {},
   "outputs": [],
   "source": [
    "count=sample1['left'].value_counts()"
   ]
  },
  {
   "cell_type": "code",
   "execution_count": 102,
   "id": "2ab67f48",
   "metadata": {},
   "outputs": [
    {
     "data": {
      "text/plain": [
       "1    63\n",
       "0    37\n",
       "Name: left, dtype: int64"
      ]
     },
     "execution_count": 102,
     "metadata": {},
     "output_type": "execute_result"
    }
   ],
   "source": [
    "count"
   ]
  },
  {
   "cell_type": "code",
   "execution_count": 103,
   "id": "f7bd19d6",
   "metadata": {},
   "outputs": [
    {
     "data": {
      "text/plain": [
       "100"
      ]
     },
     "execution_count": 103,
     "metadata": {},
     "output_type": "execute_result"
    }
   ],
   "source": [
    "#No of observations=nobs\n",
    "nobs=len(sample1['left'])\n",
    "nobs"
   ]
  },
  {
   "cell_type": "code",
   "execution_count": 104,
   "id": "f6dfefd2",
   "metadata": {},
   "outputs": [],
   "source": [
    "p0=0.03"
   ]
  },
  {
   "cell_type": "code",
   "execution_count": 105,
   "id": "4039969c",
   "metadata": {},
   "outputs": [],
   "source": [
    "#Here alternative is what tail it is, for proportions we generally take two sided tails and hence 'two-sided'\n",
    "statistic_oneprop, pvalue_oneprop=proportions_ztest(count=count, nobs=nobs,value=p0, alternative='two-sided',prop_var=False)"
   ]
  },
  {
   "cell_type": "code",
   "execution_count": 106,
   "id": "e7b2dc9d",
   "metadata": {},
   "outputs": [
    {
     "name": "stdout",
     "output_type": "stream",
     "text": [
      "3.252691193458119 0.0011431765973566503\n"
     ]
    }
   ],
   "source": [
    "print(statistic_oneprop, pvalue_oneprop)"
   ]
  },
  {
   "cell_type": "code",
   "execution_count": 107,
   "id": "d30cf76a",
   "metadata": {},
   "outputs": [],
   "source": [
    "#p value is less than 0.5 rejct h0 and accept ha\n",
    "# % of employee leaving the company having exp of 2 yrs is not same as employee having exp more than 2 yrs"
   ]
  },
  {
   "cell_type": "code",
   "execution_count": 108,
   "id": "e90cc4e6",
   "metadata": {},
   "outputs": [
    {
     "name": "stdout",
     "output_type": "stream",
     "text": [
      "[-1.95996398  1.95996398]\n"
     ]
    }
   ],
   "source": [
    "from scipy.stats import norm\n",
    "cv_norm = norm.ppf([alpha/2,1-alpha/2])\n",
    "print(cv_norm)"
   ]
  },
  {
   "cell_type": "markdown",
   "id": "5351fa38",
   "metadata": {},
   "source": [
    "Two sample t-test"
   ]
  },
  {
   "cell_type": "code",
   "execution_count": 109,
   "id": "606d33a4",
   "metadata": {},
   "outputs": [],
   "source": [
    "#Two test for means - compare the means of the 2 independednt groups"
   ]
  },
  {
   "cell_type": "code",
   "execution_count": 110,
   "id": "5bc8bf4e",
   "metadata": {},
   "outputs": [
    {
     "data": {
      "text/html": [
       "<div>\n",
       "<style scoped>\n",
       "    .dataframe tbody tr th:only-of-type {\n",
       "        vertical-align: middle;\n",
       "    }\n",
       "\n",
       "    .dataframe tbody tr th {\n",
       "        vertical-align: top;\n",
       "    }\n",
       "\n",
       "    .dataframe thead th {\n",
       "        text-align: right;\n",
       "    }\n",
       "</style>\n",
       "<table border=\"1\" class=\"dataframe\">\n",
       "  <thead>\n",
       "    <tr style=\"text-align: right;\">\n",
       "      <th></th>\n",
       "      <th>satisfactoryLevel</th>\n",
       "      <th>lastEvaluation</th>\n",
       "      <th>numberOfProjects</th>\n",
       "      <th>avgMonthlyHours</th>\n",
       "      <th>timeSpent_company</th>\n",
       "      <th>workAccident</th>\n",
       "      <th>left</th>\n",
       "      <th>promotionInLast5years</th>\n",
       "      <th>dept</th>\n",
       "      <th>salary</th>\n",
       "    </tr>\n",
       "  </thead>\n",
       "  <tbody>\n",
       "    <tr>\n",
       "      <th>0</th>\n",
       "      <td>0.38</td>\n",
       "      <td>0.53</td>\n",
       "      <td>2</td>\n",
       "      <td>157</td>\n",
       "      <td>3</td>\n",
       "      <td>0</td>\n",
       "      <td>1</td>\n",
       "      <td>0</td>\n",
       "      <td>7</td>\n",
       "      <td>1</td>\n",
       "    </tr>\n",
       "    <tr>\n",
       "      <th>1</th>\n",
       "      <td>0.80</td>\n",
       "      <td>0.86</td>\n",
       "      <td>5</td>\n",
       "      <td>262</td>\n",
       "      <td>6</td>\n",
       "      <td>0</td>\n",
       "      <td>1</td>\n",
       "      <td>0</td>\n",
       "      <td>7</td>\n",
       "      <td>2</td>\n",
       "    </tr>\n",
       "    <tr>\n",
       "      <th>2</th>\n",
       "      <td>0.11</td>\n",
       "      <td>0.88</td>\n",
       "      <td>7</td>\n",
       "      <td>272</td>\n",
       "      <td>4</td>\n",
       "      <td>0</td>\n",
       "      <td>1</td>\n",
       "      <td>0</td>\n",
       "      <td>7</td>\n",
       "      <td>2</td>\n",
       "    </tr>\n",
       "    <tr>\n",
       "      <th>3</th>\n",
       "      <td>0.37</td>\n",
       "      <td>0.52</td>\n",
       "      <td>2</td>\n",
       "      <td>159</td>\n",
       "      <td>3</td>\n",
       "      <td>0</td>\n",
       "      <td>1</td>\n",
       "      <td>0</td>\n",
       "      <td>7</td>\n",
       "      <td>1</td>\n",
       "    </tr>\n",
       "    <tr>\n",
       "      <th>4</th>\n",
       "      <td>0.41</td>\n",
       "      <td>0.50</td>\n",
       "      <td>2</td>\n",
       "      <td>153</td>\n",
       "      <td>3</td>\n",
       "      <td>0</td>\n",
       "      <td>1</td>\n",
       "      <td>0</td>\n",
       "      <td>7</td>\n",
       "      <td>1</td>\n",
       "    </tr>\n",
       "  </tbody>\n",
       "</table>\n",
       "</div>"
      ],
      "text/plain": [
       "   satisfactoryLevel  lastEvaluation  numberOfProjects  avgMonthlyHours  \\\n",
       "0               0.38            0.53                 2              157   \n",
       "1               0.80            0.86                 5              262   \n",
       "2               0.11            0.88                 7              272   \n",
       "3               0.37            0.52                 2              159   \n",
       "4               0.41            0.50                 2              153   \n",
       "\n",
       "   timeSpent_company  workAccident  left  promotionInLast5years  dept  salary  \n",
       "0                  3             0     1                      0     7       1  \n",
       "1                  6             0     1                      0     7       2  \n",
       "2                  4             0     1                      0     7       2  \n",
       "3                  3             0     1                      0     7       1  \n",
       "4                  3             0     1                      0     7       1  "
      ]
     },
     "execution_count": 110,
     "metadata": {},
     "output_type": "execute_result"
    }
   ],
   "source": [
    "df1.head()"
   ]
  },
  {
   "cell_type": "code",
   "execution_count": 111,
   "id": "ebbdf750",
   "metadata": {},
   "outputs": [
    {
     "data": {
      "text/plain": [
       "array([ 3,  6,  4,  5,  2,  8, 10,  7], dtype=int64)"
      ]
     },
     "execution_count": 111,
     "metadata": {},
     "output_type": "execute_result"
    }
   ],
   "source": [
    "df1['timeSpent_company'].unique()"
   ]
  },
  {
   "cell_type": "markdown",
   "id": "8d436f48",
   "metadata": {},
   "source": [
    "Is the mean avg monthly hours of a employee having experience of 2-5 yrs is the same as that for the employee having exp 6-10 yrs"
   ]
  },
  {
   "cell_type": "code",
   "execution_count": 112,
   "id": "455bd78d",
   "metadata": {},
   "outputs": [],
   "source": [
    "#Checking the variance of both"
   ]
  },
  {
   "cell_type": "code",
   "execution_count": 116,
   "id": "9b0fa00d",
   "metadata": {},
   "outputs": [],
   "source": [
    "e1=df1[(df1.timeSpent_company>=2) & (df1.timeSpent_company<=5)]\n",
    "e2=df1[(df1.timeSpent_company>=6) & (df1.timeSpent_company<=10)]"
   ]
  },
  {
   "cell_type": "code",
   "execution_count": 117,
   "id": "4ca7fc4e",
   "metadata": {},
   "outputs": [
    {
     "data": {
      "text/html": [
       "<div>\n",
       "<style scoped>\n",
       "    .dataframe tbody tr th:only-of-type {\n",
       "        vertical-align: middle;\n",
       "    }\n",
       "\n",
       "    .dataframe tbody tr th {\n",
       "        vertical-align: top;\n",
       "    }\n",
       "\n",
       "    .dataframe thead th {\n",
       "        text-align: right;\n",
       "    }\n",
       "</style>\n",
       "<table border=\"1\" class=\"dataframe\">\n",
       "  <thead>\n",
       "    <tr style=\"text-align: right;\">\n",
       "      <th></th>\n",
       "      <th>satisfactoryLevel</th>\n",
       "      <th>lastEvaluation</th>\n",
       "      <th>numberOfProjects</th>\n",
       "      <th>avgMonthlyHours</th>\n",
       "      <th>timeSpent_company</th>\n",
       "      <th>workAccident</th>\n",
       "      <th>left</th>\n",
       "      <th>promotionInLast5years</th>\n",
       "      <th>dept</th>\n",
       "      <th>salary</th>\n",
       "    </tr>\n",
       "  </thead>\n",
       "  <tbody>\n",
       "    <tr>\n",
       "      <th>0</th>\n",
       "      <td>0.38</td>\n",
       "      <td>0.53</td>\n",
       "      <td>2</td>\n",
       "      <td>157</td>\n",
       "      <td>3</td>\n",
       "      <td>0</td>\n",
       "      <td>1</td>\n",
       "      <td>0</td>\n",
       "      <td>7</td>\n",
       "      <td>1</td>\n",
       "    </tr>\n",
       "    <tr>\n",
       "      <th>2</th>\n",
       "      <td>0.11</td>\n",
       "      <td>0.88</td>\n",
       "      <td>7</td>\n",
       "      <td>272</td>\n",
       "      <td>4</td>\n",
       "      <td>0</td>\n",
       "      <td>1</td>\n",
       "      <td>0</td>\n",
       "      <td>7</td>\n",
       "      <td>2</td>\n",
       "    </tr>\n",
       "    <tr>\n",
       "      <th>3</th>\n",
       "      <td>0.37</td>\n",
       "      <td>0.52</td>\n",
       "      <td>2</td>\n",
       "      <td>159</td>\n",
       "      <td>3</td>\n",
       "      <td>0</td>\n",
       "      <td>1</td>\n",
       "      <td>0</td>\n",
       "      <td>7</td>\n",
       "      <td>1</td>\n",
       "    </tr>\n",
       "    <tr>\n",
       "      <th>4</th>\n",
       "      <td>0.41</td>\n",
       "      <td>0.50</td>\n",
       "      <td>2</td>\n",
       "      <td>153</td>\n",
       "      <td>3</td>\n",
       "      <td>0</td>\n",
       "      <td>1</td>\n",
       "      <td>0</td>\n",
       "      <td>7</td>\n",
       "      <td>1</td>\n",
       "    </tr>\n",
       "    <tr>\n",
       "      <th>5</th>\n",
       "      <td>0.10</td>\n",
       "      <td>0.77</td>\n",
       "      <td>6</td>\n",
       "      <td>247</td>\n",
       "      <td>4</td>\n",
       "      <td>0</td>\n",
       "      <td>1</td>\n",
       "      <td>0</td>\n",
       "      <td>7</td>\n",
       "      <td>1</td>\n",
       "    </tr>\n",
       "  </tbody>\n",
       "</table>\n",
       "</div>"
      ],
      "text/plain": [
       "   satisfactoryLevel  lastEvaluation  numberOfProjects  avgMonthlyHours  \\\n",
       "0               0.38            0.53                 2              157   \n",
       "2               0.11            0.88                 7              272   \n",
       "3               0.37            0.52                 2              159   \n",
       "4               0.41            0.50                 2              153   \n",
       "5               0.10            0.77                 6              247   \n",
       "\n",
       "   timeSpent_company  workAccident  left  promotionInLast5years  dept  salary  \n",
       "0                  3             0     1                      0     7       1  \n",
       "2                  4             0     1                      0     7       2  \n",
       "3                  3             0     1                      0     7       1  \n",
       "4                  3             0     1                      0     7       1  \n",
       "5                  4             0     1                      0     7       1  "
      ]
     },
     "execution_count": 117,
     "metadata": {},
     "output_type": "execute_result"
    }
   ],
   "source": [
    "e1.head()"
   ]
  },
  {
   "cell_type": "code",
   "execution_count": 118,
   "id": "dbcbea24",
   "metadata": {},
   "outputs": [
    {
     "data": {
      "text/plain": [
       "(11167, 10)"
      ]
     },
     "execution_count": 118,
     "metadata": {},
     "output_type": "execute_result"
    }
   ],
   "source": [
    "e1.shape"
   ]
  },
  {
   "cell_type": "code",
   "execution_count": 119,
   "id": "64c17ca1",
   "metadata": {},
   "outputs": [
    {
     "data": {
      "text/html": [
       "<div>\n",
       "<style scoped>\n",
       "    .dataframe tbody tr th:only-of-type {\n",
       "        vertical-align: middle;\n",
       "    }\n",
       "\n",
       "    .dataframe tbody tr th {\n",
       "        vertical-align: top;\n",
       "    }\n",
       "\n",
       "    .dataframe thead th {\n",
       "        text-align: right;\n",
       "    }\n",
       "</style>\n",
       "<table border=\"1\" class=\"dataframe\">\n",
       "  <thead>\n",
       "    <tr style=\"text-align: right;\">\n",
       "      <th></th>\n",
       "      <th>satisfactoryLevel</th>\n",
       "      <th>lastEvaluation</th>\n",
       "      <th>numberOfProjects</th>\n",
       "      <th>avgMonthlyHours</th>\n",
       "      <th>timeSpent_company</th>\n",
       "      <th>workAccident</th>\n",
       "      <th>left</th>\n",
       "      <th>promotionInLast5years</th>\n",
       "      <th>dept</th>\n",
       "      <th>salary</th>\n",
       "    </tr>\n",
       "  </thead>\n",
       "  <tbody>\n",
       "    <tr>\n",
       "      <th>1</th>\n",
       "      <td>0.80</td>\n",
       "      <td>0.86</td>\n",
       "      <td>5</td>\n",
       "      <td>262</td>\n",
       "      <td>6</td>\n",
       "      <td>0</td>\n",
       "      <td>1</td>\n",
       "      <td>0</td>\n",
       "      <td>7</td>\n",
       "      <td>2</td>\n",
       "    </tr>\n",
       "    <tr>\n",
       "      <th>13</th>\n",
       "      <td>0.78</td>\n",
       "      <td>0.99</td>\n",
       "      <td>4</td>\n",
       "      <td>255</td>\n",
       "      <td>6</td>\n",
       "      <td>0</td>\n",
       "      <td>1</td>\n",
       "      <td>0</td>\n",
       "      <td>7</td>\n",
       "      <td>1</td>\n",
       "    </tr>\n",
       "    <tr>\n",
       "      <th>26</th>\n",
       "      <td>0.84</td>\n",
       "      <td>0.87</td>\n",
       "      <td>4</td>\n",
       "      <td>246</td>\n",
       "      <td>6</td>\n",
       "      <td>0</td>\n",
       "      <td>1</td>\n",
       "      <td>0</td>\n",
       "      <td>3</td>\n",
       "      <td>1</td>\n",
       "    </tr>\n",
       "    <tr>\n",
       "      <th>33</th>\n",
       "      <td>0.57</td>\n",
       "      <td>0.70</td>\n",
       "      <td>3</td>\n",
       "      <td>273</td>\n",
       "      <td>6</td>\n",
       "      <td>0</td>\n",
       "      <td>1</td>\n",
       "      <td>0</td>\n",
       "      <td>8</td>\n",
       "      <td>1</td>\n",
       "    </tr>\n",
       "    <tr>\n",
       "      <th>63</th>\n",
       "      <td>0.90</td>\n",
       "      <td>1.00</td>\n",
       "      <td>5</td>\n",
       "      <td>221</td>\n",
       "      <td>6</td>\n",
       "      <td>0</td>\n",
       "      <td>1</td>\n",
       "      <td>0</td>\n",
       "      <td>7</td>\n",
       "      <td>2</td>\n",
       "    </tr>\n",
       "  </tbody>\n",
       "</table>\n",
       "</div>"
      ],
      "text/plain": [
       "    satisfactoryLevel  lastEvaluation  numberOfProjects  avgMonthlyHours  \\\n",
       "1                0.80            0.86                 5              262   \n",
       "13               0.78            0.99                 4              255   \n",
       "26               0.84            0.87                 4              246   \n",
       "33               0.57            0.70                 3              273   \n",
       "63               0.90            1.00                 5              221   \n",
       "\n",
       "    timeSpent_company  workAccident  left  promotionInLast5years  dept  salary  \n",
       "1                   6             0     1                      0     7       2  \n",
       "13                  6             0     1                      0     7       1  \n",
       "26                  6             0     1                      0     3       1  \n",
       "33                  6             0     1                      0     8       1  \n",
       "63                  6             0     1                      0     7       2  "
      ]
     },
     "execution_count": 119,
     "metadata": {},
     "output_type": "execute_result"
    }
   ],
   "source": [
    "e2.head()"
   ]
  },
  {
   "cell_type": "code",
   "execution_count": 120,
   "id": "43b1a09c",
   "metadata": {},
   "outputs": [
    {
     "data": {
      "text/plain": [
       "(824, 10)"
      ]
     },
     "execution_count": 120,
     "metadata": {},
     "output_type": "execute_result"
    }
   ],
   "source": [
    "e2.shape"
   ]
  },
  {
   "cell_type": "code",
   "execution_count": 121,
   "id": "15423cca",
   "metadata": {},
   "outputs": [],
   "source": [
    "s1=e1.sample(200,random_state=0)\n",
    "s2=e2.sample(200,random_state=0)"
   ]
  },
  {
   "cell_type": "code",
   "execution_count": 122,
   "id": "ed6f3f87",
   "metadata": {},
   "outputs": [],
   "source": [
    "import scipy"
   ]
  },
  {
   "cell_type": "code",
   "execution_count": 123,
   "id": "c722aaf9",
   "metadata": {},
   "outputs": [
    {
     "data": {
      "text/plain": [
       "Ttest_indResult(statistic=-0.058969634159925566, pvalue=0.9530058909644643)"
      ]
     },
     "execution_count": 123,
     "metadata": {},
     "output_type": "execute_result"
    }
   ],
   "source": [
    "scipy.stats.ttest_ind(s1['avgMonthlyHours'],s2['avgMonthlyHours'])"
   ]
  },
  {
   "cell_type": "code",
   "execution_count": 124,
   "id": "0fbc562f",
   "metadata": {},
   "outputs": [],
   "source": [
    "#p value > 0.05 hence accept null hypothesis\n",
    "#The mean avg monthly hours of a employee having experience of 2-5 yrs is the same as that for the employee having 6-10 yrs"
   ]
  },
  {
   "cell_type": "markdown",
   "id": "231d3d1e",
   "metadata": {},
   "source": [
    "F-statistics"
   ]
  },
  {
   "cell_type": "markdown",
   "id": "8a25631c",
   "metadata": {},
   "source": [
    "Compute the f-statistics of the previous problem statement"
   ]
  },
  {
   "cell_type": "code",
   "execution_count": 125,
   "id": "ae979488",
   "metadata": {},
   "outputs": [],
   "source": [
    "#F-test for variance is used to test if variances of 2 population are equal"
   ]
  },
  {
   "cell_type": "code",
   "execution_count": 126,
   "id": "5d903825",
   "metadata": {},
   "outputs": [
    {
     "name": "stdout",
     "output_type": "stream",
     "text": [
      "2324.24620603015\n",
      "2680.904522613066\n"
     ]
    }
   ],
   "source": [
    "#Sample variance\n",
    "print(s1.avgMonthlyHours.var())\n",
    "print(s2.avgMonthlyHours.var())"
   ]
  },
  {
   "cell_type": "code",
   "execution_count": 127,
   "id": "806d7bc1",
   "metadata": {},
   "outputs": [
    {
     "name": "stdout",
     "output_type": "stream",
     "text": [
      "203.005\n",
      "203.3\n"
     ]
    }
   ],
   "source": [
    "#Sample mean\n",
    "print(s1.avgMonthlyHours.mean())\n",
    "print(s2.avgMonthlyHours.mean())"
   ]
  },
  {
   "cell_type": "code",
   "execution_count": 128,
   "id": "f8e73d18",
   "metadata": {},
   "outputs": [
    {
     "name": "stdout",
     "output_type": "stream",
     "text": [
      "0.8669634395501401\n"
     ]
    }
   ],
   "source": [
    "#Computing f statistic\n",
    "from scipy.stats import f\n",
    "F=s1.avgMonthlyHours.var()/s2.avgMonthlyHours.var()\n",
    "print(F)"
   ]
  },
  {
   "cell_type": "code",
   "execution_count": 129,
   "id": "72937f8b",
   "metadata": {},
   "outputs": [],
   "source": [
    "#Degree of freedom for the sample\n",
    "df1=len(s1)-1\n",
    "df2=len(s2)-1"
   ]
  },
  {
   "cell_type": "code",
   "execution_count": 130,
   "id": "edb477b0",
   "metadata": {},
   "outputs": [],
   "source": [
    "import scipy.stats"
   ]
  },
  {
   "cell_type": "code",
   "execution_count": 131,
   "id": "956eaade",
   "metadata": {},
   "outputs": [
    {
     "name": "stdout",
     "output_type": "stream",
     "text": [
      "0.15739115729495057\n"
     ]
    }
   ],
   "source": [
    "p_value=scipy.stats.f.cdf(F,df1,df2)\n",
    "print(p_value)"
   ]
  },
  {
   "cell_type": "code",
   "execution_count": 132,
   "id": "f8c82c37",
   "metadata": {},
   "outputs": [
    {
     "name": "stdout",
     "output_type": "stream",
     "text": [
      "[0.75678659 1.32137648]\n"
     ]
    }
   ],
   "source": [
    "cv=f.ppf([alpha/2,1-alpha/2],df1,df2)\n",
    "print(cv)"
   ]
  },
  {
   "cell_type": "code",
   "execution_count": 133,
   "id": "8df551c3",
   "metadata": {},
   "outputs": [],
   "source": [
    "#pvalue is > 0.05, accept null hypothesis, equal variance\n",
    "# Since variances are equal, means are also equal. \n",
    "#So here we derive the conclusion is that, the monthly hours and experience do not have any relationship\n",
    "#For satisfactory level there is a somewhat relationship"
   ]
  },
  {
   "cell_type": "code",
   "execution_count": null,
   "id": "271187c5",
   "metadata": {},
   "outputs": [],
   "source": []
  }
 ],
 "metadata": {
  "kernelspec": {
   "display_name": "Python 3 (ipykernel)",
   "language": "python",
   "name": "python3"
  },
  "language_info": {
   "codemirror_mode": {
    "name": "ipython",
    "version": 3
   },
   "file_extension": ".py",
   "mimetype": "text/x-python",
   "name": "python",
   "nbconvert_exporter": "python",
   "pygments_lexer": "ipython3",
   "version": "3.9.12"
  }
 },
 "nbformat": 4,
 "nbformat_minor": 5
}
